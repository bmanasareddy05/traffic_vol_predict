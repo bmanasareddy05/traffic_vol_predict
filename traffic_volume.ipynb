{
  "cells": [
    {
      "cell_type": "markdown",
      "metadata": {
        "id": "view-in-github",
        "colab_type": "text"
      },
      "source": [
        "<a href=\"https://colab.research.google.com/github/bmanasareddy05/traffic_vol_predict/blob/main/traffic_volume.ipynb\" target=\"_parent\"><img src=\"https://colab.research.google.com/assets/colab-badge.svg\" alt=\"Open In Colab\"/></a>"
      ]
    },
    {
      "cell_type": "markdown",
      "metadata": {
        "id": "v8ybnCX2v-a6"
      },
      "source": [
        "**FINDING** **HEAVY** **TRAFFIC** **INDICATORS**"
      ]
    },
    {
      "cell_type": "code",
      "execution_count": 1,
      "metadata": {
        "colab": {
          "base_uri": "https://localhost:8080/",
          "height": 400
        },
        "id": "D7FWopMzwLk6",
        "outputId": "28769f0a-ce5e-479c-b284-d8af33dae326"
      },
      "outputs": [
        {
          "output_type": "execute_result",
          "data": {
            "text/plain": [
              "  holiday    temp  rain_1h  snow_1h  clouds_all weather_main  \\\n",
              "0     NaN  288.28      0.0      0.0          40       Clouds   \n",
              "1     NaN  289.36      0.0      0.0          75       Clouds   \n",
              "2     NaN  289.58      0.0      0.0          90       Clouds   \n",
              "3     NaN  290.13      0.0      0.0          90       Clouds   \n",
              "4     NaN  291.14      0.0      0.0          75       Clouds   \n",
              "\n",
              "  weather_description            date_time  traffic_volume  \n",
              "0    scattered clouds  2012-10-02 09:00:00            5545  \n",
              "1       broken clouds  2012-10-02 10:00:00            4516  \n",
              "2     overcast clouds  2012-10-02 11:00:00            4767  \n",
              "3     overcast clouds  2012-10-02 12:00:00            5026  \n",
              "4       broken clouds  2012-10-02 13:00:00            4918  "
            ],
            "text/html": [
              "\n",
              "  <div id=\"df-ea7381e8-79fb-418e-b0fb-4aedc9ae1028\" class=\"colab-df-container\">\n",
              "    <div>\n",
              "<style scoped>\n",
              "    .dataframe tbody tr th:only-of-type {\n",
              "        vertical-align: middle;\n",
              "    }\n",
              "\n",
              "    .dataframe tbody tr th {\n",
              "        vertical-align: top;\n",
              "    }\n",
              "\n",
              "    .dataframe thead th {\n",
              "        text-align: right;\n",
              "    }\n",
              "</style>\n",
              "<table border=\"1\" class=\"dataframe\">\n",
              "  <thead>\n",
              "    <tr style=\"text-align: right;\">\n",
              "      <th></th>\n",
              "      <th>holiday</th>\n",
              "      <th>temp</th>\n",
              "      <th>rain_1h</th>\n",
              "      <th>snow_1h</th>\n",
              "      <th>clouds_all</th>\n",
              "      <th>weather_main</th>\n",
              "      <th>weather_description</th>\n",
              "      <th>date_time</th>\n",
              "      <th>traffic_volume</th>\n",
              "    </tr>\n",
              "  </thead>\n",
              "  <tbody>\n",
              "    <tr>\n",
              "      <th>0</th>\n",
              "      <td>NaN</td>\n",
              "      <td>288.28</td>\n",
              "      <td>0.0</td>\n",
              "      <td>0.0</td>\n",
              "      <td>40</td>\n",
              "      <td>Clouds</td>\n",
              "      <td>scattered clouds</td>\n",
              "      <td>2012-10-02 09:00:00</td>\n",
              "      <td>5545</td>\n",
              "    </tr>\n",
              "    <tr>\n",
              "      <th>1</th>\n",
              "      <td>NaN</td>\n",
              "      <td>289.36</td>\n",
              "      <td>0.0</td>\n",
              "      <td>0.0</td>\n",
              "      <td>75</td>\n",
              "      <td>Clouds</td>\n",
              "      <td>broken clouds</td>\n",
              "      <td>2012-10-02 10:00:00</td>\n",
              "      <td>4516</td>\n",
              "    </tr>\n",
              "    <tr>\n",
              "      <th>2</th>\n",
              "      <td>NaN</td>\n",
              "      <td>289.58</td>\n",
              "      <td>0.0</td>\n",
              "      <td>0.0</td>\n",
              "      <td>90</td>\n",
              "      <td>Clouds</td>\n",
              "      <td>overcast clouds</td>\n",
              "      <td>2012-10-02 11:00:00</td>\n",
              "      <td>4767</td>\n",
              "    </tr>\n",
              "    <tr>\n",
              "      <th>3</th>\n",
              "      <td>NaN</td>\n",
              "      <td>290.13</td>\n",
              "      <td>0.0</td>\n",
              "      <td>0.0</td>\n",
              "      <td>90</td>\n",
              "      <td>Clouds</td>\n",
              "      <td>overcast clouds</td>\n",
              "      <td>2012-10-02 12:00:00</td>\n",
              "      <td>5026</td>\n",
              "    </tr>\n",
              "    <tr>\n",
              "      <th>4</th>\n",
              "      <td>NaN</td>\n",
              "      <td>291.14</td>\n",
              "      <td>0.0</td>\n",
              "      <td>0.0</td>\n",
              "      <td>75</td>\n",
              "      <td>Clouds</td>\n",
              "      <td>broken clouds</td>\n",
              "      <td>2012-10-02 13:00:00</td>\n",
              "      <td>4918</td>\n",
              "    </tr>\n",
              "  </tbody>\n",
              "</table>\n",
              "</div>\n",
              "    <div class=\"colab-df-buttons\">\n",
              "\n",
              "  <div class=\"colab-df-container\">\n",
              "    <button class=\"colab-df-convert\" onclick=\"convertToInteractive('df-ea7381e8-79fb-418e-b0fb-4aedc9ae1028')\"\n",
              "            title=\"Convert this dataframe to an interactive table.\"\n",
              "            style=\"display:none;\">\n",
              "\n",
              "  <svg xmlns=\"http://www.w3.org/2000/svg\" height=\"24px\" viewBox=\"0 -960 960 960\">\n",
              "    <path d=\"M120-120v-720h720v720H120Zm60-500h600v-160H180v160Zm220 220h160v-160H400v160Zm0 220h160v-160H400v160ZM180-400h160v-160H180v160Zm440 0h160v-160H620v160ZM180-180h160v-160H180v160Zm440 0h160v-160H620v160Z\"/>\n",
              "  </svg>\n",
              "    </button>\n",
              "\n",
              "  <style>\n",
              "    .colab-df-container {\n",
              "      display:flex;\n",
              "      gap: 12px;\n",
              "    }\n",
              "\n",
              "    .colab-df-convert {\n",
              "      background-color: #E8F0FE;\n",
              "      border: none;\n",
              "      border-radius: 50%;\n",
              "      cursor: pointer;\n",
              "      display: none;\n",
              "      fill: #1967D2;\n",
              "      height: 32px;\n",
              "      padding: 0 0 0 0;\n",
              "      width: 32px;\n",
              "    }\n",
              "\n",
              "    .colab-df-convert:hover {\n",
              "      background-color: #E2EBFA;\n",
              "      box-shadow: 0px 1px 2px rgba(60, 64, 67, 0.3), 0px 1px 3px 1px rgba(60, 64, 67, 0.15);\n",
              "      fill: #174EA6;\n",
              "    }\n",
              "\n",
              "    .colab-df-buttons div {\n",
              "      margin-bottom: 4px;\n",
              "    }\n",
              "\n",
              "    [theme=dark] .colab-df-convert {\n",
              "      background-color: #3B4455;\n",
              "      fill: #D2E3FC;\n",
              "    }\n",
              "\n",
              "    [theme=dark] .colab-df-convert:hover {\n",
              "      background-color: #434B5C;\n",
              "      box-shadow: 0px 1px 3px 1px rgba(0, 0, 0, 0.15);\n",
              "      filter: drop-shadow(0px 1px 2px rgba(0, 0, 0, 0.3));\n",
              "      fill: #FFFFFF;\n",
              "    }\n",
              "  </style>\n",
              "\n",
              "    <script>\n",
              "      const buttonEl =\n",
              "        document.querySelector('#df-ea7381e8-79fb-418e-b0fb-4aedc9ae1028 button.colab-df-convert');\n",
              "      buttonEl.style.display =\n",
              "        google.colab.kernel.accessAllowed ? 'block' : 'none';\n",
              "\n",
              "      async function convertToInteractive(key) {\n",
              "        const element = document.querySelector('#df-ea7381e8-79fb-418e-b0fb-4aedc9ae1028');\n",
              "        const dataTable =\n",
              "          await google.colab.kernel.invokeFunction('convertToInteractive',\n",
              "                                                    [key], {});\n",
              "        if (!dataTable) return;\n",
              "\n",
              "        const docLinkHtml = 'Like what you see? Visit the ' +\n",
              "          '<a target=\"_blank\" href=https://colab.research.google.com/notebooks/data_table.ipynb>data table notebook</a>'\n",
              "          + ' to learn more about interactive tables.';\n",
              "        element.innerHTML = '';\n",
              "        dataTable['output_type'] = 'display_data';\n",
              "        await google.colab.output.renderOutput(dataTable, element);\n",
              "        const docLink = document.createElement('div');\n",
              "        docLink.innerHTML = docLinkHtml;\n",
              "        element.appendChild(docLink);\n",
              "      }\n",
              "    </script>\n",
              "  </div>\n",
              "\n",
              "\n",
              "<div id=\"df-5e11333f-ff1a-4e5c-837d-38e599408409\">\n",
              "  <button class=\"colab-df-quickchart\" onclick=\"quickchart('df-5e11333f-ff1a-4e5c-837d-38e599408409')\"\n",
              "            title=\"Suggest charts\"\n",
              "            style=\"display:none;\">\n",
              "\n",
              "<svg xmlns=\"http://www.w3.org/2000/svg\" height=\"24px\"viewBox=\"0 0 24 24\"\n",
              "     width=\"24px\">\n",
              "    <g>\n",
              "        <path d=\"M19 3H5c-1.1 0-2 .9-2 2v14c0 1.1.9 2 2 2h14c1.1 0 2-.9 2-2V5c0-1.1-.9-2-2-2zM9 17H7v-7h2v7zm4 0h-2V7h2v10zm4 0h-2v-4h2v4z\"/>\n",
              "    </g>\n",
              "</svg>\n",
              "  </button>\n",
              "\n",
              "<style>\n",
              "  .colab-df-quickchart {\n",
              "      --bg-color: #E8F0FE;\n",
              "      --fill-color: #1967D2;\n",
              "      --hover-bg-color: #E2EBFA;\n",
              "      --hover-fill-color: #174EA6;\n",
              "      --disabled-fill-color: #AAA;\n",
              "      --disabled-bg-color: #DDD;\n",
              "  }\n",
              "\n",
              "  [theme=dark] .colab-df-quickchart {\n",
              "      --bg-color: #3B4455;\n",
              "      --fill-color: #D2E3FC;\n",
              "      --hover-bg-color: #434B5C;\n",
              "      --hover-fill-color: #FFFFFF;\n",
              "      --disabled-bg-color: #3B4455;\n",
              "      --disabled-fill-color: #666;\n",
              "  }\n",
              "\n",
              "  .colab-df-quickchart {\n",
              "    background-color: var(--bg-color);\n",
              "    border: none;\n",
              "    border-radius: 50%;\n",
              "    cursor: pointer;\n",
              "    display: none;\n",
              "    fill: var(--fill-color);\n",
              "    height: 32px;\n",
              "    padding: 0;\n",
              "    width: 32px;\n",
              "  }\n",
              "\n",
              "  .colab-df-quickchart:hover {\n",
              "    background-color: var(--hover-bg-color);\n",
              "    box-shadow: 0 1px 2px rgba(60, 64, 67, 0.3), 0 1px 3px 1px rgba(60, 64, 67, 0.15);\n",
              "    fill: var(--button-hover-fill-color);\n",
              "  }\n",
              "\n",
              "  .colab-df-quickchart-complete:disabled,\n",
              "  .colab-df-quickchart-complete:disabled:hover {\n",
              "    background-color: var(--disabled-bg-color);\n",
              "    fill: var(--disabled-fill-color);\n",
              "    box-shadow: none;\n",
              "  }\n",
              "\n",
              "  .colab-df-spinner {\n",
              "    border: 2px solid var(--fill-color);\n",
              "    border-color: transparent;\n",
              "    border-bottom-color: var(--fill-color);\n",
              "    animation:\n",
              "      spin 1s steps(1) infinite;\n",
              "  }\n",
              "\n",
              "  @keyframes spin {\n",
              "    0% {\n",
              "      border-color: transparent;\n",
              "      border-bottom-color: var(--fill-color);\n",
              "      border-left-color: var(--fill-color);\n",
              "    }\n",
              "    20% {\n",
              "      border-color: transparent;\n",
              "      border-left-color: var(--fill-color);\n",
              "      border-top-color: var(--fill-color);\n",
              "    }\n",
              "    30% {\n",
              "      border-color: transparent;\n",
              "      border-left-color: var(--fill-color);\n",
              "      border-top-color: var(--fill-color);\n",
              "      border-right-color: var(--fill-color);\n",
              "    }\n",
              "    40% {\n",
              "      border-color: transparent;\n",
              "      border-right-color: var(--fill-color);\n",
              "      border-top-color: var(--fill-color);\n",
              "    }\n",
              "    60% {\n",
              "      border-color: transparent;\n",
              "      border-right-color: var(--fill-color);\n",
              "    }\n",
              "    80% {\n",
              "      border-color: transparent;\n",
              "      border-right-color: var(--fill-color);\n",
              "      border-bottom-color: var(--fill-color);\n",
              "    }\n",
              "    90% {\n",
              "      border-color: transparent;\n",
              "      border-bottom-color: var(--fill-color);\n",
              "    }\n",
              "  }\n",
              "</style>\n",
              "\n",
              "  <script>\n",
              "    async function quickchart(key) {\n",
              "      const quickchartButtonEl =\n",
              "        document.querySelector('#' + key + ' button');\n",
              "      quickchartButtonEl.disabled = true;  // To prevent multiple clicks.\n",
              "      quickchartButtonEl.classList.add('colab-df-spinner');\n",
              "      try {\n",
              "        const charts = await google.colab.kernel.invokeFunction(\n",
              "            'suggestCharts', [key], {});\n",
              "      } catch (error) {\n",
              "        console.error('Error during call to suggestCharts:', error);\n",
              "      }\n",
              "      quickchartButtonEl.classList.remove('colab-df-spinner');\n",
              "      quickchartButtonEl.classList.add('colab-df-quickchart-complete');\n",
              "    }\n",
              "    (() => {\n",
              "      let quickchartButtonEl =\n",
              "        document.querySelector('#df-5e11333f-ff1a-4e5c-837d-38e599408409 button');\n",
              "      quickchartButtonEl.style.display =\n",
              "        google.colab.kernel.accessAllowed ? 'block' : 'none';\n",
              "    })();\n",
              "  </script>\n",
              "</div>\n",
              "\n",
              "    </div>\n",
              "  </div>\n"
            ],
            "application/vnd.google.colaboratory.intrinsic+json": {
              "type": "dataframe",
              "variable_name": "data",
              "summary": "{\n  \"name\": \"data\",\n  \"rows\": 48204,\n  \"fields\": [\n    {\n      \"column\": \"holiday\",\n      \"properties\": {\n        \"dtype\": \"category\",\n        \"num_unique_values\": 11,\n        \"samples\": [\n          \"Washingtons Birthday\",\n          \"Columbus Day\",\n          \"Labor Day\"\n        ],\n        \"semantic_type\": \"\",\n        \"description\": \"\"\n      }\n    },\n    {\n      \"column\": \"temp\",\n      \"properties\": {\n        \"dtype\": \"number\",\n        \"std\": 13.338231912676283,\n        \"min\": 0.0,\n        \"max\": 310.07,\n        \"num_unique_values\": 5843,\n        \"samples\": [\n          291.34,\n          282.71,\n          271.63\n        ],\n        \"semantic_type\": \"\",\n        \"description\": \"\"\n      }\n    },\n    {\n      \"column\": \"rain_1h\",\n      \"properties\": {\n        \"dtype\": \"number\",\n        \"std\": 44.78913303692662,\n        \"min\": 0.0,\n        \"max\": 9831.3,\n        \"num_unique_values\": 372,\n        \"samples\": [\n          12.83,\n          0.46,\n          1.29\n        ],\n        \"semantic_type\": \"\",\n        \"description\": \"\"\n      }\n    },\n    {\n      \"column\": \"snow_1h\",\n      \"properties\": {\n        \"dtype\": \"number\",\n        \"std\": 0.008167611205363053,\n        \"min\": 0.0,\n        \"max\": 0.51,\n        \"num_unique_values\": 12,\n        \"samples\": [\n          0.17,\n          0.1,\n          0.0\n        ],\n        \"semantic_type\": \"\",\n        \"description\": \"\"\n      }\n    },\n    {\n      \"column\": \"clouds_all\",\n      \"properties\": {\n        \"dtype\": \"number\",\n        \"std\": 39,\n        \"min\": 0,\n        \"max\": 100,\n        \"num_unique_values\": 60,\n        \"samples\": [\n          40,\n          0,\n          63\n        ],\n        \"semantic_type\": \"\",\n        \"description\": \"\"\n      }\n    },\n    {\n      \"column\": \"weather_main\",\n      \"properties\": {\n        \"dtype\": \"category\",\n        \"num_unique_values\": 11,\n        \"samples\": [\n          \"Haze\",\n          \"Clouds\",\n          \"Squall\"\n        ],\n        \"semantic_type\": \"\",\n        \"description\": \"\"\n      }\n    },\n    {\n      \"column\": \"weather_description\",\n      \"properties\": {\n        \"dtype\": \"category\",\n        \"num_unique_values\": 38,\n        \"samples\": [\n          \"thunderstorm with drizzle\",\n          \"light shower snow\",\n          \"few clouds\"\n        ],\n        \"semantic_type\": \"\",\n        \"description\": \"\"\n      }\n    },\n    {\n      \"column\": \"date_time\",\n      \"properties\": {\n        \"dtype\": \"object\",\n        \"num_unique_values\": 40575,\n        \"samples\": [\n          \"2013-11-24 06:00:00\",\n          \"2016-08-21 09:00:00\",\n          \"2017-05-15 17:00:00\"\n        ],\n        \"semantic_type\": \"\",\n        \"description\": \"\"\n      }\n    },\n    {\n      \"column\": \"traffic_volume\",\n      \"properties\": {\n        \"dtype\": \"number\",\n        \"std\": 1986,\n        \"min\": 0,\n        \"max\": 7280,\n        \"num_unique_values\": 6704,\n        \"samples\": [\n          908,\n          5642,\n          4009\n        ],\n        \"semantic_type\": \"\",\n        \"description\": \"\"\n      }\n    }\n  ]\n}"
            }
          },
          "metadata": {},
          "execution_count": 1
        }
      ],
      "source": [
        "import matplotlib.pyplot as plt\n",
        "import pandas as pd\n",
        "import numpy as np\n",
        "data=pd.read_csv(\"/content/Metro_Interstate_Traffic_Volume.csv\")\n",
        "data.describe()\n",
        "data.head()"
      ]
    },
    {
      "cell_type": "code",
      "execution_count": 2,
      "metadata": {
        "colab": {
          "base_uri": "https://localhost:8080/",
          "height": 770
        },
        "id": "CMl99kfWxdc6",
        "outputId": "d5b68801-baee-40ea-f8c5-c405020045a6"
      },
      "outputs": [
        {
          "output_type": "execute_result",
          "data": {
            "text/plain": [
              "count    48204.000000\n",
              "mean      3259.818355\n",
              "std       1986.860670\n",
              "min          0.000000\n",
              "25%       1193.000000\n",
              "50%       3380.000000\n",
              "75%       4933.000000\n",
              "max       7280.000000\n",
              "Name: traffic_volume, dtype: float64"
            ],
            "text/html": [
              "<div>\n",
              "<style scoped>\n",
              "    .dataframe tbody tr th:only-of-type {\n",
              "        vertical-align: middle;\n",
              "    }\n",
              "\n",
              "    .dataframe tbody tr th {\n",
              "        vertical-align: top;\n",
              "    }\n",
              "\n",
              "    .dataframe thead th {\n",
              "        text-align: right;\n",
              "    }\n",
              "</style>\n",
              "<table border=\"1\" class=\"dataframe\">\n",
              "  <thead>\n",
              "    <tr style=\"text-align: right;\">\n",
              "      <th></th>\n",
              "      <th>traffic_volume</th>\n",
              "    </tr>\n",
              "  </thead>\n",
              "  <tbody>\n",
              "    <tr>\n",
              "      <th>count</th>\n",
              "      <td>48204.000000</td>\n",
              "    </tr>\n",
              "    <tr>\n",
              "      <th>mean</th>\n",
              "      <td>3259.818355</td>\n",
              "    </tr>\n",
              "    <tr>\n",
              "      <th>std</th>\n",
              "      <td>1986.860670</td>\n",
              "    </tr>\n",
              "    <tr>\n",
              "      <th>min</th>\n",
              "      <td>0.000000</td>\n",
              "    </tr>\n",
              "    <tr>\n",
              "      <th>25%</th>\n",
              "      <td>1193.000000</td>\n",
              "    </tr>\n",
              "    <tr>\n",
              "      <th>50%</th>\n",
              "      <td>3380.000000</td>\n",
              "    </tr>\n",
              "    <tr>\n",
              "      <th>75%</th>\n",
              "      <td>4933.000000</td>\n",
              "    </tr>\n",
              "    <tr>\n",
              "      <th>max</th>\n",
              "      <td>7280.000000</td>\n",
              "    </tr>\n",
              "  </tbody>\n",
              "</table>\n",
              "</div><br><label><b>dtype:</b> float64</label>"
            ]
          },
          "metadata": {},
          "execution_count": 2
        },
        {
          "output_type": "display_data",
          "data": {
            "text/plain": [
              "<Figure size 640x480 with 1 Axes>"
            ],
            "image/png": "[encoded data removed]"
          },
          "metadata": {}
        }
      ],
      "source": [
        "data.hist('traffic_volume')\n",
        "data['traffic_volume'].describe()"
      ]
    },
    {
      "cell_type": "code",
      "execution_count": 3,
      "metadata": {
        "id": "a8dPeUbiy8UU"
      },
      "outputs": [],
      "source": [
        "data['date_time']=pd.to_datetime(data['date_time'])"
      ]
    },
    {
      "cell_type": "code",
      "execution_count": 4,
      "metadata": {
        "colab": {
          "base_uri": "https://localhost:8080/",
          "height": 400
        },
        "id": "4UaIdP5p0G31",
        "outputId": "95e03415-b5be-4c70-d108-e79d9d334fc1"
      },
      "outputs": [
        {
          "output_type": "execute_result",
          "data": {
            "text/plain": [
              "      holiday    temp  rain_1h  snow_1h  clouds_all  weather_main  \\\n",
              "48199     NaN  283.45      0.0      0.0          75        Clouds   \n",
              "48200     NaN  282.76      0.0      0.0          90        Clouds   \n",
              "48201     NaN  282.73      0.0      0.0          90  Thunderstorm   \n",
              "48202     NaN  282.09      0.0      0.0          90        Clouds   \n",
              "48203     NaN  282.12      0.0      0.0          90        Clouds   \n",
              "\n",
              "          weather_description           date_time  traffic_volume  \n",
              "48199           broken clouds 2018-09-30 19:00:00            3543  \n",
              "48200         overcast clouds 2018-09-30 20:00:00            2781  \n",
              "48201  proximity thunderstorm 2018-09-30 21:00:00            2159  \n",
              "48202         overcast clouds 2018-09-30 22:00:00            1450  \n",
              "48203         overcast clouds 2018-09-30 23:00:00             954  "
            ],
            "text/html": [
              "\n",
              "  <div id=\"df-adf77e9a-1705-48ef-a255-0f8229cbc3cf\" class=\"colab-df-container\">\n",
              "    <div>\n",
              "<style scoped>\n",
              "    .dataframe tbody tr th:only-of-type {\n",
              "        vertical-align: middle;\n",
              "    }\n",
              "\n",
              "    .dataframe tbody tr th {\n",
              "        vertical-align: top;\n",
              "    }\n",
              "\n",
              "    .dataframe thead th {\n",
              "        text-align: right;\n",
              "    }\n",
              "</style>\n",
              "<table border=\"1\" class=\"dataframe\">\n",
              "  <thead>\n",
              "    <tr style=\"text-align: right;\">\n",
              "      <th></th>\n",
              "      <th>holiday</th>\n",
              "      <th>temp</th>\n",
              "      <th>rain_1h</th>\n",
              "      <th>snow_1h</th>\n",
              "      <th>clouds_all</th>\n",
              "      <th>weather_main</th>\n",
              "      <th>weather_description</th>\n",
              "      <th>date_time</th>\n",
              "      <th>traffic_volume</th>\n",
              "    </tr>\n",
              "  </thead>\n",
              "  <tbody>\n",
              "    <tr>\n",
              "      <th>48199</th>\n",
              "      <td>NaN</td>\n",
              "      <td>283.45</td>\n",
              "      <td>0.0</td>\n",
              "      <td>0.0</td>\n",
              "      <td>75</td>\n",
              "      <td>Clouds</td>\n",
              "      <td>broken clouds</td>\n",
              "      <td>2018-09-30 19:00:00</td>\n",
              "      <td>3543</td>\n",
              "    </tr>\n",
              "    <tr>\n",
              "      <th>48200</th>\n",
              "      <td>NaN</td>\n",
              "      <td>282.76</td>\n",
              "      <td>0.0</td>\n",
              "      <td>0.0</td>\n",
              "      <td>90</td>\n",
              "      <td>Clouds</td>\n",
              "      <td>overcast clouds</td>\n",
              "      <td>2018-09-30 20:00:00</td>\n",
              "      <td>2781</td>\n",
              "    </tr>\n",
              "    <tr>\n",
              "      <th>48201</th>\n",
              "      <td>NaN</td>\n",
              "      <td>282.73</td>\n",
              "      <td>0.0</td>\n",
              "      <td>0.0</td>\n",
              "      <td>90</td>\n",
              "      <td>Thunderstorm</td>\n",
              "      <td>proximity thunderstorm</td>\n",
              "      <td>2018-09-30 21:00:00</td>\n",
              "      <td>2159</td>\n",
              "    </tr>\n",
              "    <tr>\n",
              "      <th>48202</th>\n",
              "      <td>NaN</td>\n",
              "      <td>282.09</td>\n",
              "      <td>0.0</td>\n",
              "      <td>0.0</td>\n",
              "      <td>90</td>\n",
              "      <td>Clouds</td>\n",
              "      <td>overcast clouds</td>\n",
              "      <td>2018-09-30 22:00:00</td>\n",
              "      <td>1450</td>\n",
              "    </tr>\n",
              "    <tr>\n",
              "      <th>48203</th>\n",
              "      <td>NaN</td>\n",
              "      <td>282.12</td>\n",
              "      <td>0.0</td>\n",
              "      <td>0.0</td>\n",
              "      <td>90</td>\n",
              "      <td>Clouds</td>\n",
              "      <td>overcast clouds</td>\n",
              "      <td>2018-09-30 23:00:00</td>\n",
              "      <td>954</td>\n",
              "    </tr>\n",
              "  </tbody>\n",
              "</table>\n",
              "</div>\n",
              "    <div class=\"colab-df-buttons\">\n",
              "\n",
              "  <div class=\"colab-df-container\">\n",
              "    <button class=\"colab-df-convert\" onclick=\"convertToInteractive('df-adf77e9a-1705-48ef-a255-0f8229cbc3cf')\"\n",
              "            title=\"Convert this dataframe to an interactive table.\"\n",
              "            style=\"display:none;\">\n",
              "\n",
              "  <svg xmlns=\"http://www.w3.org/2000/svg\" height=\"24px\" viewBox=\"0 -960 960 960\">\n",
              "    <path d=\"M120-120v-720h720v720H120Zm60-500h600v-160H180v160Zm220 220h160v-160H400v160Zm0 220h160v-160H400v160ZM180-400h160v-160H180v160Zm440 0h160v-160H620v160ZM180-180h160v-160H180v160Zm440 0h160v-160H620v160Z\"/>\n",
              "  </svg>\n",
              "    </button>\n",
              "\n",
              "  <style>\n",
              "    .colab-df-container {\n",
              "      display:flex;\n",
              "      gap: 12px;\n",
              "    }\n",
              "\n",
              "    .colab-df-convert {\n",
              "      background-color: #E8F0FE;\n",
              "      border: none;\n",
              "      border-radius: 50%;\n",
              "      cursor: pointer;\n",
              "      display: none;\n",
              "      fill: #1967D2;\n",
              "      height: 32px;\n",
              "      padding: 0 0 0 0;\n",
              "      width: 32px;\n",
              "    }\n",
              "\n",
              "    .colab-df-convert:hover {\n",
              "      background-color: #E2EBFA;\n",
              "      box-shadow: 0px 1px 2px rgba(60, 64, 67, 0.3), 0px 1px 3px 1px rgba(60, 64, 67, 0.15);\n",
              "      fill: #174EA6;\n",
              "    }\n",
              "\n",
              "    .colab-df-buttons div {\n",
              "      margin-bottom: 4px;\n",
              "    }\n",
              "\n",
              "    [theme=dark] .colab-df-convert {\n",
              "      background-color: #3B4455;\n",
              "      fill: #D2E3FC;\n",
              "    }\n",
              "\n",
              "    [theme=dark] .colab-df-convert:hover {\n",
              "      background-color: #434B5C;\n",
              "      box-shadow: 0px 1px 3px 1px rgba(0, 0, 0, 0.15);\n",
              "      filter: drop-shadow(0px 1px 2px rgba(0, 0, 0, 0.3));\n",
              "      fill: #FFFFFF;\n",
              "    }\n",
              "  </style>\n",
              "\n",
              "    <script>\n",
              "      const buttonEl =\n",
              "        document.querySelector('#df-adf77e9a-1705-48ef-a255-0f8229cbc3cf button.colab-df-convert');\n",
              "      buttonEl.style.display =\n",
              "        google.colab.kernel.accessAllowed ? 'block' : 'none';\n",
              "\n",
              "      async function convertToInteractive(key) {\n",
              "        const element = document.querySelector('#df-adf77e9a-1705-48ef-a255-0f8229cbc3cf');\n",
              "        const dataTable =\n",
              "          await google.colab.kernel.invokeFunction('convertToInteractive',\n",
              "                                                    [key], {});\n",
              "        if (!dataTable) return;\n",
              "\n",
              "        const docLinkHtml = 'Like what you see? Visit the ' +\n",
              "          '<a target=\"_blank\" href=https://colab.research.google.com/notebooks/data_table.ipynb>data table notebook</a>'\n",
              "          + ' to learn more about interactive tables.';\n",
              "        element.innerHTML = '';\n",
              "        dataTable['output_type'] = 'display_data';\n",
              "        await google.colab.output.renderOutput(dataTable, element);\n",
              "        const docLink = document.createElement('div');\n",
              "        docLink.innerHTML = docLinkHtml;\n",
              "        element.appendChild(docLink);\n",
              "      }\n",
              "    </script>\n",
              "  </div>\n",
              "\n",
              "\n",
              "<div id=\"df-c11984e8-be35-4f54-8e88-b6bcf67f62e4\">\n",
              "  <button class=\"colab-df-quickchart\" onclick=\"quickchart('df-c11984e8-be35-4f54-8e88-b6bcf67f62e4')\"\n",
              "            title=\"Suggest charts\"\n",
              "            style=\"display:none;\">\n",
              "\n",
              "<svg xmlns=\"http://www.w3.org/2000/svg\" height=\"24px\"viewBox=\"0 0 24 24\"\n",
              "     width=\"24px\">\n",
              "    <g>\n",
              "        <path d=\"M19 3H5c-1.1 0-2 .9-2 2v14c0 1.1.9 2 2 2h14c1.1 0 2-.9 2-2V5c0-1.1-.9-2-2-2zM9 17H7v-7h2v7zm4 0h-2V7h2v10zm4 0h-2v-4h2v4z\"/>\n",
              "    </g>\n",
              "</svg>\n",
              "  </button>\n",
              "\n",
              "<style>\n",
              "  .colab-df-quickchart {\n",
              "      --bg-color: #E8F0FE;\n",
              "      --fill-color: #1967D2;\n",
              "      --hover-bg-color: #E2EBFA;\n",
              "      --hover-fill-color: #174EA6;\n",
              "      --disabled-fill-color: #AAA;\n",
              "      --disabled-bg-color: #DDD;\n",
              "  }\n",
              "\n",
              "  [theme=dark] .colab-df-quickchart {\n",
              "      --bg-color: #3B4455;\n",
              "      --fill-color: #D2E3FC;\n",
              "      --hover-bg-color: #434B5C;\n",
              "      --hover-fill-color: #FFFFFF;\n",
              "      --disabled-bg-color: #3B4455;\n",
              "      --disabled-fill-color: #666;\n",
              "  }\n",
              "\n",
              "  .colab-df-quickchart {\n",
              "    background-color: var(--bg-color);\n",
              "    border: none;\n",
              "    border-radius: 50%;\n",
              "    cursor: pointer;\n",
              "    display: none;\n",
              "    fill: var(--fill-color);\n",
              "    height: 32px;\n",
              "    padding: 0;\n",
              "    width: 32px;\n",
              "  }\n",
              "\n",
              "  .colab-df-quickchart:hover {\n",
              "    background-color: var(--hover-bg-color);\n",
              "    box-shadow: 0 1px 2px rgba(60, 64, 67, 0.3), 0 1px 3px 1px rgba(60, 64, 67, 0.15);\n",
              "    fill: var(--button-hover-fill-color);\n",
              "  }\n",
              "\n",
              "  .colab-df-quickchart-complete:disabled,\n",
              "  .colab-df-quickchart-complete:disabled:hover {\n",
              "    background-color: var(--disabled-bg-color);\n",
              "    fill: var(--disabled-fill-color);\n",
              "    box-shadow: none;\n",
              "  }\n",
              "\n",
              "  .colab-df-spinner {\n",
              "    border: 2px solid var(--fill-color);\n",
              "    border-color: transparent;\n",
              "    border-bottom-color: var(--fill-color);\n",
              "    animation:\n",
              "      spin 1s steps(1) infinite;\n",
              "  }\n",
              "\n",
              "  @keyframes spin {\n",
              "    0% {\n",
              "      border-color: transparent;\n",
              "      border-bottom-color: var(--fill-color);\n",
              "      border-left-color: var(--fill-color);\n",
              "    }\n",
              "    20% {\n",
              "      border-color: transparent;\n",
              "      border-left-color: var(--fill-color);\n",
              "      border-top-color: var(--fill-color);\n",
              "    }\n",
              "    30% {\n",
              "      border-color: transparent;\n",
              "      border-left-color: var(--fill-color);\n",
              "      border-top-color: var(--fill-color);\n",
              "      border-right-color: var(--fill-color);\n",
              "    }\n",
              "    40% {\n",
              "      border-color: transparent;\n",
              "      border-right-color: var(--fill-color);\n",
              "      border-top-color: var(--fill-color);\n",
              "    }\n",
              "    60% {\n",
              "      border-color: transparent;\n",
              "      border-right-color: var(--fill-color);\n",
              "    }\n",
              "    80% {\n",
              "      border-color: transparent;\n",
              "      border-right-color: var(--fill-color);\n",
              "      border-bottom-color: var(--fill-color);\n",
              "    }\n",
              "    90% {\n",
              "      border-color: transparent;\n",
              "      border-bottom-color: var(--fill-color);\n",
              "    }\n",
              "  }\n",
              "</style>\n",
              "\n",
              "  <script>\n",
              "    async function quickchart(key) {\n",
              "      const quickchartButtonEl =\n",
              "        document.querySelector('#' + key + ' button');\n",
              "      quickchartButtonEl.disabled = true;  // To prevent multiple clicks.\n",
              "      quickchartButtonEl.classList.add('colab-df-spinner');\n",
              "      try {\n",
              "        const charts = await google.colab.kernel.invokeFunction(\n",
              "            'suggestCharts', [key], {});\n",
              "      } catch (error) {\n",
              "        console.error('Error during call to suggestCharts:', error);\n",
              "      }\n",
              "      quickchartButtonEl.classList.remove('colab-df-spinner');\n",
              "      quickchartButtonEl.classList.add('colab-df-quickchart-complete');\n",
              "    }\n",
              "    (() => {\n",
              "      let quickchartButtonEl =\n",
              "        document.querySelector('#df-c11984e8-be35-4f54-8e88-b6bcf67f62e4 button');\n",
              "      quickchartButtonEl.style.display =\n",
              "        google.colab.kernel.accessAllowed ? 'block' : 'none';\n",
              "    })();\n",
              "  </script>\n",
              "</div>\n",
              "\n",
              "    </div>\n",
              "  </div>\n"
            ],
            "application/vnd.google.colaboratory.intrinsic+json": {
              "type": "dataframe",
              "repr_error": "0"
            }
          },
          "metadata": {},
          "execution_count": 4
        }
      ],
      "source": [
        "hour=data['date_time'].dt.hour\n",
        "daytime=data.loc[(data['date_time'].dt.hour>=6) & (data['date_time'].dt.hour<=18)]\n",
        "nighttime=data.loc[(data['date_time'].dt.hour>=18) | (data['date_time'].dt.hour<=6)]\n",
        "nighttime.tail()"
      ]
    },
    {
      "cell_type": "code",
      "execution_count": 5,
      "metadata": {
        "colab": {
          "base_uri": "https://localhost:8080/",
          "height": 333
        },
        "id": "Vnmi0Dg6Wm4N",
        "outputId": "fcc406a2-7d03-4e70-907d-02f731b6ed99"
      },
      "outputs": [
        {
          "output_type": "display_data",
          "data": {
            "text/plain": [
              "<Figure size 800x300 with 2 Axes>"
            ],
            "image/png": "[encoded data removed]"
          },
          "metadata": {}
        }
      ],
      "source": [
        "plt.figure(figsize=(8,3))\n",
        "plt.subplot(1,2,1)\n",
        "plt.hist(daytime['traffic_volume'])\n",
        "plt.ylim([0,9000])\n",
        "plt.xlabel(\"total traffic volume per hour\")\n",
        "plt.ylabel(\"frequency\")\n",
        "plt.title(\"daytime traffic volume\")\n",
        "plt.subplot(1,2,2)\n",
        "plt.ylim([0,9000])\n",
        "plt.hist(nighttime['traffic_volume'])\n",
        "plt.xlabel(\"total traffic volume per hour\")\n",
        "plt.ylabel(\"frequency\")\n",
        "plt.title(\"nighttime traffic volume\")\n",
        "plt.show()"
      ]
    },
    {
      "cell_type": "code",
      "execution_count": 6,
      "metadata": {
        "colab": {
          "base_uri": "https://localhost:8080/",
          "height": 335
        },
        "id": "p2zmjYc5XytN",
        "outputId": "42165b2a-89ee-45c0-89d4-32e1ee0b3512"
      },
      "outputs": [
        {
          "output_type": "execute_result",
          "data": {
            "text/plain": [
              "count    25964.000000\n",
              "mean      4712.087429\n",
              "std       1281.625783\n",
              "min          0.000000\n",
              "25%       4232.000000\n",
              "50%       4849.500000\n",
              "75%       5597.000000\n",
              "max       7280.000000\n",
              "Name: traffic_volume, dtype: float64"
            ],
            "text/html": [
              "<div>\n",
              "<style scoped>\n",
              "    .dataframe tbody tr th:only-of-type {\n",
              "        vertical-align: middle;\n",
              "    }\n",
              "\n",
              "    .dataframe tbody tr th {\n",
              "        vertical-align: top;\n",
              "    }\n",
              "\n",
              "    .dataframe thead th {\n",
              "        text-align: right;\n",
              "    }\n",
              "</style>\n",
              "<table border=\"1\" class=\"dataframe\">\n",
              "  <thead>\n",
              "    <tr style=\"text-align: right;\">\n",
              "      <th></th>\n",
              "      <th>traffic_volume</th>\n",
              "    </tr>\n",
              "  </thead>\n",
              "  <tbody>\n",
              "    <tr>\n",
              "      <th>count</th>\n",
              "      <td>25964.000000</td>\n",
              "    </tr>\n",
              "    <tr>\n",
              "      <th>mean</th>\n",
              "      <td>4712.087429</td>\n",
              "    </tr>\n",
              "    <tr>\n",
              "      <th>std</th>\n",
              "      <td>1281.625783</td>\n",
              "    </tr>\n",
              "    <tr>\n",
              "      <th>min</th>\n",
              "      <td>0.000000</td>\n",
              "    </tr>\n",
              "    <tr>\n",
              "      <th>25%</th>\n",
              "      <td>4232.000000</td>\n",
              "    </tr>\n",
              "    <tr>\n",
              "      <th>50%</th>\n",
              "      <td>4849.500000</td>\n",
              "    </tr>\n",
              "    <tr>\n",
              "      <th>75%</th>\n",
              "      <td>5597.000000</td>\n",
              "    </tr>\n",
              "    <tr>\n",
              "      <th>max</th>\n",
              "      <td>7280.000000</td>\n",
              "    </tr>\n",
              "  </tbody>\n",
              "</table>\n",
              "</div><br><label><b>dtype:</b> float64</label>"
            ]
          },
          "metadata": {},
          "execution_count": 6
        }
      ],
      "source": [
        "daytime['traffic_volume'].describe()"
      ]
    },
    {
      "cell_type": "code",
      "execution_count": 7,
      "metadata": {
        "colab": {
          "base_uri": "https://localhost:8080/",
          "height": 335
        },
        "id": "2CXbjWr3X0Ol",
        "outputId": "de285195-5930-42d3-cdad-398c0fd8c750"
      },
      "outputs": [
        {
          "output_type": "execute_result",
          "data": {
            "text/plain": [
              "count    26313.000000\n",
              "mean      1972.432714\n",
              "std       1543.019592\n",
              "min          0.000000\n",
              "25%        580.000000\n",
              "50%       1570.000000\n",
              "75%       3005.000000\n",
              "max       6386.000000\n",
              "Name: traffic_volume, dtype: float64"
            ],
            "text/html": [
              "<div>\n",
              "<style scoped>\n",
              "    .dataframe tbody tr th:only-of-type {\n",
              "        vertical-align: middle;\n",
              "    }\n",
              "\n",
              "    .dataframe tbody tr th {\n",
              "        vertical-align: top;\n",
              "    }\n",
              "\n",
              "    .dataframe thead th {\n",
              "        text-align: right;\n",
              "    }\n",
              "</style>\n",
              "<table border=\"1\" class=\"dataframe\">\n",
              "  <thead>\n",
              "    <tr style=\"text-align: right;\">\n",
              "      <th></th>\n",
              "      <th>traffic_volume</th>\n",
              "    </tr>\n",
              "  </thead>\n",
              "  <tbody>\n",
              "    <tr>\n",
              "      <th>count</th>\n",
              "      <td>26313.000000</td>\n",
              "    </tr>\n",
              "    <tr>\n",
              "      <th>mean</th>\n",
              "      <td>1972.432714</td>\n",
              "    </tr>\n",
              "    <tr>\n",
              "      <th>std</th>\n",
              "      <td>1543.019592</td>\n",
              "    </tr>\n",
              "    <tr>\n",
              "      <th>min</th>\n",
              "      <td>0.000000</td>\n",
              "    </tr>\n",
              "    <tr>\n",
              "      <th>25%</th>\n",
              "      <td>580.000000</td>\n",
              "    </tr>\n",
              "    <tr>\n",
              "      <th>50%</th>\n",
              "      <td>1570.000000</td>\n",
              "    </tr>\n",
              "    <tr>\n",
              "      <th>75%</th>\n",
              "      <td>3005.000000</td>\n",
              "    </tr>\n",
              "    <tr>\n",
              "      <th>max</th>\n",
              "      <td>6386.000000</td>\n",
              "    </tr>\n",
              "  </tbody>\n",
              "</table>\n",
              "</div><br><label><b>dtype:</b> float64</label>"
            ]
          },
          "metadata": {},
          "execution_count": 7
        }
      ],
      "source": [
        "nighttime['traffic_volume'].describe()"
      ]
    },
    {
      "cell_type": "code",
      "execution_count": 8,
      "metadata": {
        "colab": {
          "base_uri": "https://localhost:8080/",
          "height": 596
        },
        "id": "P56wB4hacHP1",
        "outputId": "7207718d-3c84-414a-a473-a128a4b1cc5e"
      },
      "outputs": [
        {
          "output_type": "stream",
          "name": "stderr",
          "text": [
            "<ipython-input-8-5ce51d7cc609>:1: SettingWithCopyWarning: \n",
            "A value is trying to be set on a copy of a slice from a DataFrame.\n",
            "Try using .loc[row_indexer,col_indexer] = value instead\n",
            "\n",
            "See the caveats in the documentation: https://pandas.pydata.org/pandas-docs/stable/user_guide/indexing.html#returning-a-view-versus-a-copy\n",
            "  daytime['month'] = daytime['date_time'].dt.month\n"
          ]
        },
        {
          "output_type": "display_data",
          "data": {
            "text/plain": [
              "<Figure size 640x480 with 1 Axes>"
            ],
            "image/png": "[encoded data removed]"
          },
          "metadata": {}
        }
      ],
      "source": [
        "daytime['month'] = daytime['date_time'].dt.month\n",
        "by_month = daytime.groupby('month').mean(numeric_only=True)\n",
        "by_month['month']=daytime['date_time'].dt.month\n",
        "volume=by_month['traffic_volume']\n",
        "plt.plot(volume)\n",
        "x = np.arange(1, 13, 1)\n",
        "plt.xticks(x)\n",
        "plt.title(\"Daytime Traffic\")\n",
        "plt.xlabel(\"Month\")\n",
        "plt.ylabel(\"Average traffic volume\")\n",
        "plt.show()"
      ]
    },
    {
      "cell_type": "code",
      "execution_count": 9,
      "metadata": {
        "colab": {
          "base_uri": "https://localhost:8080/",
          "height": 596
        },
        "id": "XALgvX2GdGVL",
        "outputId": "3d518abf-54c6-4edc-fc99-201a5edd0ce9"
      },
      "outputs": [
        {
          "output_type": "stream",
          "name": "stderr",
          "text": [
            "<ipython-input-9-3f12079272fc>:1: SettingWithCopyWarning: \n",
            "A value is trying to be set on a copy of a slice from a DataFrame.\n",
            "Try using .loc[row_indexer,col_indexer] = value instead\n",
            "\n",
            "See the caveats in the documentation: https://pandas.pydata.org/pandas-docs/stable/user_guide/indexing.html#returning-a-view-versus-a-copy\n",
            "  daytime['dayofweek'] = daytime['date_time'].dt.dayofweek\n"
          ]
        },
        {
          "output_type": "display_data",
          "data": {
            "text/plain": [
              "<Figure size 640x480 with 1 Axes>"
            ],
            "image/png": "[encoded data removed]"
          },
          "metadata": {}
        }
      ],
      "source": [
        "daytime['dayofweek'] = daytime['date_time'].dt.dayofweek\n",
        "by_dayofweek = daytime.groupby('dayofweek').mean(numeric_only=True)\n",
        "#by_month['month']=daytime['date_time'].dt.dayofweek\n",
        "volume=by_dayofweek['traffic_volume']\n",
        "plt.plot(volume)\n",
        "x = np.arange(1,8,1)\n",
        "plt.xticks(x)\n",
        "plt.title(\"Daytime Traffic\")\n",
        "plt.xlabel(\"Month\")\n",
        "plt.ylabel(\"Average traffic volume\")\n",
        "plt.show()"
      ]
    },
    {
      "cell_type": "code",
      "execution_count": 10,
      "metadata": {
        "colab": {
          "base_uri": "https://localhost:8080/",
          "height": 457
        },
        "id": "kGxvFEF-eGIc",
        "outputId": "0d3d6451-7f59-4906-8987-42009f605516"
      },
      "outputs": [
        {
          "output_type": "stream",
          "name": "stderr",
          "text": [
            "<ipython-input-10-fc7c4d9165ca>:1: SettingWithCopyWarning: \n",
            "A value is trying to be set on a copy of a slice from a DataFrame.\n",
            "Try using .loc[row_indexer,col_indexer] = value instead\n",
            "\n",
            "See the caveats in the documentation: https://pandas.pydata.org/pandas-docs/stable/user_guide/indexing.html#returning-a-view-versus-a-copy\n",
            "  daytime['hour'] = daytime['date_time'].dt.hour\n"
          ]
        },
        {
          "output_type": "display_data",
          "data": {
            "text/plain": [
              "<Figure size 800x300 with 2 Axes>"
            ],
            "image/png": "[encoded data removed]"
          },
          "metadata": {}
        }
      ],
      "source": [
        "daytime['hour'] = daytime['date_time'].dt.hour\n",
        "business_days=daytime.copy()[daytime['dayofweek']<=4]\n",
        "weekend=daytime.copy()[daytime['dayofweek']>4]\n",
        "by_hour_business = business_days.groupby('hour').mean(numeric_only=True)\n",
        "by_hour_weekend = weekend.groupby('hour').mean(numeric_only=True)\n",
        "vol_business=by_hour_business['traffic_volume']\n",
        "vol_weekend=by_hour_weekend['traffic_volume']\n",
        "\n",
        "plt.figure(figsize=(8,3))\n",
        "plt.subplot(1,2,1)\n",
        "plt.plot(vol_business)\n",
        "plt.ylim(0,7000)\n",
        "x=np.arange(7,19,1)\n",
        "plt.xticks(x)\n",
        "plt.title(\"Business_Day_traffic\")\n",
        "plt.xlabel(\"Hour\")\n",
        "plt.ylabel(\"Average traffic volume\")\n",
        "plt.subplot(1,2,2)\n",
        "plt.ylim(0,7000)\n",
        "plt.plot(vol_weekend)\n",
        "plt.xticks(x)\n",
        "plt.title(\"Weekend_traffic\")\n",
        "plt.xlabel(\"Hour\")\n",
        "plt.ylabel(\"Average traffic volume\")\n",
        "x=np.arange(7,19,1)\n",
        "plt.xticks(x)\n",
        "plt.show()"
      ]
    },
    {
      "cell_type": "code",
      "execution_count": 11,
      "metadata": {
        "colab": {
          "base_uri": "https://localhost:8080/",
          "height": 449
        },
        "id": "xpQOXr1W1yeL",
        "outputId": "2e33deee-b290-4b5b-e412-edfa9408b251"
      },
      "outputs": [
        {
          "output_type": "display_data",
          "data": {
            "text/plain": [
              "<Figure size 640x480 with 1 Axes>"
            ],
            "image/png": "[encoded data removed]"
          },
          "metadata": {}
        }
      ],
      "source": [
        "plt.scatter(daytime['temp'],daytime['traffic_volume'])\n",
        "plt.xlabel(\"Temperature\")\n",
        "plt.ylabel(\"Average traffic volume\")\n",
        "plt.show()"
      ]
    },
    {
      "cell_type": "code",
      "execution_count": 12,
      "metadata": {
        "colab": {
          "base_uri": "https://localhost:8080/"
        },
        "id": "PUARdOvR2JwU",
        "outputId": "14ff505f-906c-4bed-8ae8-0bdf5bedceeb"
      },
      "outputs": [
        {
          "output_type": "stream",
          "name": "stdout",
          "text": [
            "                    temp   rain_1h   snow_1h  clouds_all  traffic_volume  \\\n",
            "weather_main                                                               \n",
            "Clear         283.025724  0.000000  0.000000    1.644855     4722.645962   \n",
            "Clouds        282.618130  0.000000  0.000000   62.851621     4825.436729   \n",
            "Drizzle       284.413783  0.172771  0.000000   84.281186     4791.208589   \n",
            "Fog           278.295933  0.142467  0.001133   59.655556     4331.733333   \n",
            "Haze          275.131126  0.039181  0.000000   62.824801     4594.139932   \n",
            "Mist          279.606984  0.253160  0.000731   71.601202     4558.200401   \n",
            "Rain          286.995476  3.715700  0.000269   75.593001     4771.561892   \n",
            "Smoke         291.704615  0.810769  0.000000   52.307692     4317.076923   \n",
            "Snow          267.925437  0.012915  0.001660   80.416350     4358.179975   \n",
            "Squall        296.730000  1.020000  0.000000   75.000000     4211.000000   \n",
            "Thunderstorm  293.075010  1.222826  0.000000   74.468938     4579.394790   \n",
            "\n",
            "                 month  dayofweek       hour  \n",
            "weather_main                                  \n",
            "Clear         6.479532   3.131500  11.814130  \n",
            "Clouds        6.391418   3.007424  12.567092  \n",
            "Drizzle       7.080777   2.939673  11.695297  \n",
            "Fog           6.671111   2.833333   9.480000  \n",
            "Haze          5.775882   2.742890  12.136519  \n",
            "Mist          6.772545   2.906146  10.398130  \n",
            "Rain          6.793584   2.926766  12.115036  \n",
            "Smoke         6.692308   2.615385  12.615385  \n",
            "Snow          6.341572   2.745247  11.669835  \n",
            "Squall        7.000000   2.000000  14.000000  \n",
            "Thunderstorm  7.102204   2.989980  12.050100  \n"
          ]
        }
      ],
      "source": [
        "by_weather_main = daytime.groupby('weather_main').mean(numeric_only=True)\n",
        "print(by_weather_main)\n",
        "by_weather_description = daytime.groupby('weather_description').mean(numeric_only=True)"
      ]
    },
    {
      "cell_type": "code",
      "execution_count": 13,
      "metadata": {
        "colab": {
          "base_uri": "https://localhost:8080/",
          "height": 449
        },
        "id": "XJfcfm5D267g",
        "outputId": "7f81a567-7e26-4677-8918-540a09df2ebd"
      },
      "outputs": [
        {
          "output_type": "display_data",
          "data": {
            "text/plain": [
              "<Figure size 640x480 with 1 Axes>"
            ],
            "image/png": "[encoded data removed]"
          },
          "metadata": {}
        }
      ],
      "source": [
        "vol=by_weather_main['traffic_volume']\n",
        "reason=by_weather_main.index.values\n",
        "plt.barh(reason,vol)\n",
        "plt.xlabel(\"Weather\")\n",
        "plt.ylabel(\"Average traffic volume\")\n",
        "plt.show()\n",
        "#"
      ]
    },
    {
      "cell_type": "code",
      "execution_count": 14,
      "metadata": {
        "colab": {
          "base_uri": "https://localhost:8080/",
          "height": 449
        },
        "id": "S-m8vlrU3Uw_",
        "outputId": "cea63ce6-ce29-4fe3-dcd0-21869f36b6a3"
      },
      "outputs": [
        {
          "output_type": "display_data",
          "data": {
            "text/plain": [
              "<Figure size 640x480 with 1 Axes>"
            ],
            "image/png": "[encoded data removed]"
          },
          "metadata": {}
        }
      ],
      "source": [
        "vol=by_weather_description['traffic_volume']\n",
        "reason=by_weather_description.index.values\n",
        "plt.barh(reason,vol)\n",
        "plt.xlabel(\"Weather\")\n",
        "plt.ylabel(\"Average traffic volume\")\n",
        "plt.show()"
      ]
    },
    {
      "cell_type": "markdown",
      "source": [
        "**ACTUAL VS PREDICTED IN LINEAR REGRESSION**"
      ],
      "metadata": {
        "id": "xCSlYpBh2kLX"
      }
    },
    {
      "cell_type": "code",
      "execution_count": 15,
      "metadata": {
        "colab": {
          "base_uri": "https://localhost:8080/",
          "height": 700
        },
        "id": "4S2QtPtd2xPp",
        "outputId": "326c4716-ff18-4d70-e61a-e0c731d4919c"
      },
      "outputs": [
        {
          "output_type": "stream",
          "name": "stderr",
          "text": [
            "<ipython-input-15-b3408559da4b>:10: SettingWithCopyWarning: \n",
            "A value is trying to be set on a copy of a slice from a DataFrame.\n",
            "Try using .loc[row_indexer,col_indexer] = value instead\n",
            "\n",
            "See the caveats in the documentation: https://pandas.pydata.org/pandas-docs/stable/user_guide/indexing.html#returning-a-view-versus-a-copy\n",
            "  X['clouds_all'] = pd.to_numeric(X['clouds_all'], errors='coerce')\n",
            "<ipython-input-15-b3408559da4b>:11: SettingWithCopyWarning: \n",
            "A value is trying to be set on a copy of a slice from a DataFrame\n",
            "\n",
            "See the caveats in the documentation: https://pandas.pydata.org/pandas-docs/stable/user_guide/indexing.html#returning-a-view-versus-a-copy\n",
            "  X.fillna(0, inplace=True)\n"
          ]
        },
        {
          "output_type": "stream",
          "name": "stdout",
          "text": [
            "Mean Squared Error: 1612239.3115445513\n"
          ]
        },
        {
          "output_type": "display_data",
          "data": {
            "text/plain": [
              "<Figure size 640x480 with 1 Axes>"
            ],
            "image/png": "[encoded data removed]"
          },
          "metadata": {}
        }
      ],
      "source": [
        "import numpy as np\n",
        "from sklearn.model_selection import train_test_split\n",
        "from sklearn.preprocessing import PolynomialFeatures, StandardScaler\n",
        "from sklearn.linear_model import LinearRegression\n",
        "from sklearn.metrics import mean_squared_error\n",
        "\n",
        "X = daytime[['temp', 'rain_1h', 'snow_1h', 'clouds_all']]\n",
        "y = daytime['traffic_volume']\n",
        "\n",
        "X['clouds_all'] = pd.to_numeric(X['clouds_all'], errors='coerce')\n",
        "X.fillna(0, inplace=True)\n",
        "\n",
        "# Spliting the data into training and test sets\n",
        "X_train, X_test, y_train, y_test = train_test_split(X, y, test_size=0.2, random_state=42)\n",
        "\n",
        "poly = PolynomialFeatures(degree=2)\n",
        "X_train_poly = poly.fit_transform(X_train)\n",
        "X_test_poly = poly.transform(X_test)\n",
        "\n",
        "scaler = StandardScaler()\n",
        "X_train_poly = scaler.fit_transform(X_train_poly)\n",
        "X_test_poly = scaler.transform(X_test_poly)\n",
        "\n",
        "model = LinearRegression()\n",
        "model.fit(X_train_poly, y_train)\n",
        "\n",
        "# Predicting on Test Data\n",
        "y_pred = model.predict(X_test_poly)\n",
        "\n",
        "# Evaluate the Model\n",
        "mse = mean_squared_error(y_test, y_pred)\n",
        "print(f\"Mean Squared Error: {mse}\")\n",
        "\n",
        "# Plot Actual vs Predicted\n",
        "import matplotlib.pyplot as plt\n",
        "\n",
        "plt.scatter(y_test, y_pred, alpha=0.7)\n",
        "plt.title(\"Actual vs Predicted Traffic Volume\")\n",
        "plt.xlabel(\"Actual Traffic Volume\")\n",
        "plt.ylabel(\"Predicted Traffic Volume\")\n",
        "plt.show()\n"
      ]
    },
    {
      "cell_type": "markdown",
      "source": [
        "**LINEAR REGRESSION**"
      ],
      "metadata": {
        "id": "dkEgzQ6b2UaZ"
      }
    },
    {
      "cell_type": "code",
      "execution_count": 16,
      "metadata": {
        "colab": {
          "base_uri": "https://localhost:8080/"
        },
        "id": "FVsJ7aLB6MFb",
        "outputId": "137f7c80-1f56-4661-d2b5-9cba02687cca"
      },
      "outputs": [
        {
          "output_type": "stream",
          "name": "stdout",
          "text": [
            "Predicted Traffic Volume: 5128.5902397216705\n"
          ]
        },
        {
          "output_type": "stream",
          "name": "stderr",
          "text": [
            "<ipython-input-16-859bb263d515>:6: SettingWithCopyWarning: \n",
            "A value is trying to be set on a copy of a slice from a DataFrame.\n",
            "Try using .loc[row_indexer,col_indexer] = value instead\n",
            "\n",
            "See the caveats in the documentation: https://pandas.pydata.org/pandas-docs/stable/user_guide/indexing.html#returning-a-view-versus-a-copy\n",
            "  daytime['hour'] = daytime['date_time'].dt.hour\n",
            "<ipython-input-16-859bb263d515>:7: SettingWithCopyWarning: \n",
            "A value is trying to be set on a copy of a slice from a DataFrame.\n",
            "Try using .loc[row_indexer,col_indexer] = value instead\n",
            "\n",
            "See the caveats in the documentation: https://pandas.pydata.org/pandas-docs/stable/user_guide/indexing.html#returning-a-view-versus-a-copy\n",
            "  daytime['day'] = daytime['date_time'].dt.day\n",
            "<ipython-input-16-859bb263d515>:8: SettingWithCopyWarning: \n",
            "A value is trying to be set on a copy of a slice from a DataFrame.\n",
            "Try using .loc[row_indexer,col_indexer] = value instead\n",
            "\n",
            "See the caveats in the documentation: https://pandas.pydata.org/pandas-docs/stable/user_guide/indexing.html#returning-a-view-versus-a-copy\n",
            "  daytime['month'] = daytime['date_time'].dt.month\n",
            "<ipython-input-16-859bb263d515>:9: SettingWithCopyWarning: \n",
            "A value is trying to be set on a copy of a slice from a DataFrame.\n",
            "Try using .loc[row_indexer,col_indexer] = value instead\n",
            "\n",
            "See the caveats in the documentation: https://pandas.pydata.org/pandas-docs/stable/user_guide/indexing.html#returning-a-view-versus-a-copy\n",
            "  daytime['weekday'] = daytime['date_time'].dt.weekday\n",
            "<ipython-input-16-859bb263d515>:15: SettingWithCopyWarning: \n",
            "A value is trying to be set on a copy of a slice from a DataFrame.\n",
            "Try using .loc[row_indexer,col_indexer] = value instead\n",
            "\n",
            "See the caveats in the documentation: https://pandas.pydata.org/pandas-docs/stable/user_guide/indexing.html#returning-a-view-versus-a-copy\n",
            "  X['clouds_all'] = pd.to_numeric(X['clouds_all'], errors='coerce')\n",
            "<ipython-input-16-859bb263d515>:16: SettingWithCopyWarning: \n",
            "A value is trying to be set on a copy of a slice from a DataFrame\n",
            "\n",
            "See the caveats in the documentation: https://pandas.pydata.org/pandas-docs/stable/user_guide/indexing.html#returning-a-view-versus-a-copy\n",
            "  X.fillna(0, inplace=True)\n",
            "/usr/local/lib/python3.10/dist-packages/sklearn/utils/validation.py:2739: UserWarning: X does not have valid feature names, but PolynomialFeatures was fitted with feature names\n",
            "  warnings.warn(\n"
          ]
        }
      ],
      "source": [
        "import numpy as np\n",
        "from sklearn.model_selection import train_test_split\n",
        "from sklearn.preprocessing import PolynomialFeatures, StandardScaler\n",
        "from sklearn.linear_model import LinearRegression\n",
        "\n",
        "daytime['hour'] = daytime['date_time'].dt.hour\n",
        "daytime['day'] = daytime['date_time'].dt.day\n",
        "daytime['month'] = daytime['date_time'].dt.month\n",
        "daytime['weekday'] = daytime['date_time'].dt.weekday\n",
        "\n",
        "\n",
        "X = daytime[['hour', 'day', 'month', 'weekday', 'temp', 'rain_1h', 'snow_1h', 'clouds_all']]\n",
        "y = daytime['traffic_volume']\n",
        "\n",
        "X['clouds_all'] = pd.to_numeric(X['clouds_all'], errors='coerce')\n",
        "X.fillna(0, inplace=True)\n",
        "\n",
        "poly = PolynomialFeatures(degree=2)\n",
        "X_poly = poly.fit_transform(X)\n",
        "scaler = StandardScaler()\n",
        "X_poly_scaled = scaler.fit_transform(X_poly)\n",
        "\n",
        "# Training the model\n",
        "model = LinearRegression()\n",
        "model.fit(X_poly_scaled, y)\n",
        "\n",
        "# Predicting traffic volume for new data\n",
        "new_data = np.array([[15, 10, 12, 4, 260, 0.2, 0, 80]])\n",
        "# hour=15, day=10, month=12, weekday=4 (Friday), temp=22°C, rain=0.2mm, snow=0mm, clouds=80%\n",
        "new_data_poly = poly.transform(new_data)\n",
        "new_data_scaled = scaler.transform(new_data_poly)\n",
        "\n",
        "# Predicting traffic volume\n",
        "predicted_traffic_volume = model.predict(new_data_scaled)\n",
        "print(f\"Predicted Traffic Volume: {predicted_traffic_volume[0]}\")\n"
      ]
    },
    {
      "cell_type": "markdown",
      "source": [
        "**RANDOM FOREST REGREESSION**"
      ],
      "metadata": {
        "id": "VrvL3sE32JCV"
      }
    },
    {
      "cell_type": "code",
      "execution_count": 17,
      "metadata": {
        "colab": {
          "base_uri": "https://localhost:8080/"
        },
        "id": "VE4SF9Aq8TjK",
        "outputId": "3024c232-4a46-4f82-8c0b-a0943d10d569"
      },
      "outputs": [
        {
          "output_type": "stream",
          "name": "stderr",
          "text": [
            "<ipython-input-17-d893d2b23552>:7: SettingWithCopyWarning: \n",
            "A value is trying to be set on a copy of a slice from a DataFrame.\n",
            "Try using .loc[row_indexer,col_indexer] = value instead\n",
            "\n",
            "See the caveats in the documentation: https://pandas.pydata.org/pandas-docs/stable/user_guide/indexing.html#returning-a-view-versus-a-copy\n",
            "  daytime['hour'] = daytime['date_time'].dt.hour\n",
            "<ipython-input-17-d893d2b23552>:8: SettingWithCopyWarning: \n",
            "A value is trying to be set on a copy of a slice from a DataFrame.\n",
            "Try using .loc[row_indexer,col_indexer] = value instead\n",
            "\n",
            "See the caveats in the documentation: https://pandas.pydata.org/pandas-docs/stable/user_guide/indexing.html#returning-a-view-versus-a-copy\n",
            "  daytime['day'] = daytime['date_time'].dt.day\n",
            "<ipython-input-17-d893d2b23552>:9: SettingWithCopyWarning: \n",
            "A value is trying to be set on a copy of a slice from a DataFrame.\n",
            "Try using .loc[row_indexer,col_indexer] = value instead\n",
            "\n",
            "See the caveats in the documentation: https://pandas.pydata.org/pandas-docs/stable/user_guide/indexing.html#returning-a-view-versus-a-copy\n",
            "  daytime['month'] = daytime['date_time'].dt.month\n",
            "<ipython-input-17-d893d2b23552>:10: SettingWithCopyWarning: \n",
            "A value is trying to be set on a copy of a slice from a DataFrame.\n",
            "Try using .loc[row_indexer,col_indexer] = value instead\n",
            "\n",
            "See the caveats in the documentation: https://pandas.pydata.org/pandas-docs/stable/user_guide/indexing.html#returning-a-view-versus-a-copy\n",
            "  daytime['weekday'] = daytime['date_time'].dt.weekday\n",
            "<ipython-input-17-d893d2b23552>:15: SettingWithCopyWarning: \n",
            "A value is trying to be set on a copy of a slice from a DataFrame.\n",
            "Try using .loc[row_indexer,col_indexer] = value instead\n",
            "\n",
            "See the caveats in the documentation: https://pandas.pydata.org/pandas-docs/stable/user_guide/indexing.html#returning-a-view-versus-a-copy\n",
            "  X['clouds_all'] = pd.to_numeric(X['clouds_all'], errors='coerce')\n",
            "<ipython-input-17-d893d2b23552>:16: SettingWithCopyWarning: \n",
            "A value is trying to be set on a copy of a slice from a DataFrame\n",
            "\n",
            "See the caveats in the documentation: https://pandas.pydata.org/pandas-docs/stable/user_guide/indexing.html#returning-a-view-versus-a-copy\n",
            "  X.fillna(0, inplace=True)\n"
          ]
        },
        {
          "output_type": "stream",
          "name": "stdout",
          "text": [
            "Cross-Validation Average MSE: 343805.3084379315\n",
            "Test MSE: 209328.34254161373\n",
            "R-squared Score (Accuracy): 0.8740142844143122\n",
            "Predicted Traffic Volume: 5128.5902397216705\n"
          ]
        },
        {
          "output_type": "stream",
          "name": "stderr",
          "text": [
            "/usr/local/lib/python3.10/dist-packages/sklearn/utils/validation.py:2739: UserWarning: X does not have valid feature names, but PolynomialFeatures was fitted with feature names\n",
            "  warnings.warn(\n"
          ]
        }
      ],
      "source": [
        "from sklearn.ensemble import RandomForestRegressor\n",
        "from sklearn.model_selection import train_test_split, cross_val_score\n",
        "from sklearn.preprocessing import PolynomialFeatures, StandardScaler\n",
        "from sklearn.metrics import mean_squared_error\n",
        "from sklearn.metrics import r2_score\n",
        "\n",
        "daytime['hour'] = daytime['date_time'].dt.hour\n",
        "daytime['day'] = daytime['date_time'].dt.day\n",
        "daytime['month'] = daytime['date_time'].dt.month\n",
        "daytime['weekday'] = daytime['date_time'].dt.weekday\n",
        "\n",
        "X = daytime[['hour', 'day', 'month', 'weekday', 'temp', 'rain_1h', 'snow_1h', 'clouds_all']]\n",
        "y = daytime['traffic_volume']\n",
        "\n",
        "X['clouds_all'] = pd.to_numeric(X['clouds_all'], errors='coerce')\n",
        "X.fillna(0, inplace=True)\n",
        "\n",
        "# Polynomial transformation and scaling\n",
        "poly = PolynomialFeatures(degree=2)\n",
        "X_poly = poly.fit_transform(X)\n",
        "scaler = StandardScaler()\n",
        "X_poly_scaled = scaler.fit_transform(X_poly)\n",
        "\n",
        "# Spliting data into training and testing sets\n",
        "X_train, X_test, y_train, y_test = train_test_split(X_poly_scaled, y, test_size=0.2, random_state=42)\n",
        "\n",
        "# Initializing Random Forest Regressor\n",
        "rf_model = RandomForestRegressor(n_estimators=100, random_state=42)\n",
        "\n",
        "# Training the model\n",
        "rf_model.fit(X_train, y_train)\n",
        "\n",
        "# cross-validation\n",
        "cv_scores = cross_val_score(rf_model, X_poly_scaled, y, cv=5, scoring='neg_mean_squared_error')\n",
        "mse_scores = -cv_scores\n",
        "avg_mse = mse_scores.mean()\n",
        "\n",
        "# Predicting on the test set\n",
        "y_pred = rf_model.predict(X_test)\n",
        "\n",
        "test_mse = mean_squared_error(y_test, y_pred)\n",
        "\n",
        "print(f\"Cross-Validation Average MSE: {avg_mse}\")\n",
        "print(f\"Test MSE: {test_mse}\")\n",
        "\n",
        "# R-squared (accuracy)\n",
        "r2 = r2_score(y_test, y_pred)\n",
        "\n",
        "print(f\"R-squared Score (Accuracy): {r2}\")\n",
        "\n",
        "new_data = np.array([[15, 10, 12, 4, 260, 0.2, 0, 80]])\n",
        "# hour=15, day=10, month=12, weekday=4 (Friday), temp=260k, rain=0.2mm, snow=0mm, clouds=80%\n",
        "new_data_poly = poly.transform(new_data)\n",
        "new_data_scaled = scaler.transform(new_data_poly)\n",
        "\n",
        "# Predicting traffic volume\n",
        "predicted_traffic_volume = model.predict(new_data_scaled)\n",
        "print(f\"Predicted Traffic Volume: {predicted_traffic_volume[0]}\")\n"
      ]
    },
    {
      "cell_type": "markdown",
      "source": [
        "**5-CROSS VALIDATION IN 8:2 RATIO---RANDOM FOREST**"
      ],
      "metadata": {
        "id": "U7hE6gljcpEC"
      }
    },
    {
      "cell_type": "code",
      "source": [
        "import pandas as pd\n",
        "from sklearn.model_selection import KFold\n",
        "from sklearn.ensemble import RandomForestRegressor\n",
        "\n",
        "X = daytime[['hour', 'day', 'month', 'weekday', 'temp', 'rain_1h', 'snow_1h', 'clouds_all']]\n",
        "y = daytime['traffic_volume']\n",
        "\n",
        "X['clouds_all'] = pd.to_numeric(X['clouds_all'], errors='coerce')\n",
        "X.fillna(0, inplace=True)\n",
        "\n",
        "data = pd.concat([X, y], axis=1)\n",
        "\n",
        "# Initialize KFold with 5 splits\n",
        "kf = KFold(n_splits=5, shuffle=True, random_state=42)\n",
        "\n",
        "# Loop\n",
        "for fold, (train_index, test_index) in enumerate(kf.split(data)):\n",
        "    train_data = data.iloc[train_index]\n",
        "    test_data = data.iloc[test_index]\n",
        "\n",
        "    # Save the train and test data to CSV files\n",
        "    train_data.to_csv(f'rand_train_fold_{fold + 1}.csv', index=False)\n",
        "    test_data.to_csv(f'rand_test_fold_{fold + 1}.csv', index=False)\n",
        "\n",
        "print(\"Data split into 5 folds with 8:2 ratio and saved as CSV files!\")\n"
      ],
      "metadata": {
        "colab": {
          "base_uri": "https://localhost:8080/"
        },
        "id": "HFeX9eXpdpKC",
        "outputId": "8d4ba4cb-267e-4a5b-8c8a-babef1186e94"
      },
      "execution_count": 18,
      "outputs": [
        {
          "output_type": "stream",
          "name": "stderr",
          "text": [
            "<ipython-input-18-2f3a6a2b7567>:8: SettingWithCopyWarning: \n",
            "A value is trying to be set on a copy of a slice from a DataFrame.\n",
            "Try using .loc[row_indexer,col_indexer] = value instead\n",
            "\n",
            "See the caveats in the documentation: https://pandas.pydata.org/pandas-docs/stable/user_guide/indexing.html#returning-a-view-versus-a-copy\n",
            "  X['clouds_all'] = pd.to_numeric(X['clouds_all'], errors='coerce')\n",
            "<ipython-input-18-2f3a6a2b7567>:9: SettingWithCopyWarning: \n",
            "A value is trying to be set on a copy of a slice from a DataFrame\n",
            "\n",
            "See the caveats in the documentation: https://pandas.pydata.org/pandas-docs/stable/user_guide/indexing.html#returning-a-view-versus-a-copy\n",
            "  X.fillna(0, inplace=True)\n"
          ]
        },
        {
          "output_type": "stream",
          "name": "stdout",
          "text": [
            "Data split into 5 folds with 8:2 ratio and saved as CSV files!\n"
          ]
        }
      ]
    },
    {
      "cell_type": "markdown",
      "source": [
        "**5-CROSS VALIDATION IN 8:2 RATIO--LINEAR REGRESSION**"
      ],
      "metadata": {
        "id": "oRsJNJ1UeEpb"
      }
    },
    {
      "cell_type": "code",
      "source": [
        "import pandas as pd\n",
        "from sklearn.linear_model import LinearRegression\n",
        "from sklearn.model_selection import KFold\n",
        "\n",
        "X = daytime[['hour', 'day', 'month', 'weekday', 'temp', 'rain_1h', 'snow_1h', 'clouds_all']]\n",
        "y = daytime['traffic_volume']\n",
        "\n",
        "X['clouds_all'] = pd.to_numeric(X['clouds_all'], errors='coerce')\n",
        "X.fillna(0, inplace=True)\n",
        "\n",
        "data = pd.concat([X, y], axis=1)\n",
        "\n",
        "# Initialize KFold with 5 splits\n",
        "kf = KFold(n_splits=5, shuffle=True, random_state=42)\n",
        "\n",
        "lr_model = LinearRegression()\n",
        "\n",
        "# Perform 5-fold cross-validation\n",
        "for fold, (train_index, test_index) in enumerate(kf.split(data)):\n",
        "    train_data = data.iloc[train_index]\n",
        "    test_data = data.iloc[test_index]\n",
        "\n",
        "    X_train = train_data.iloc[:, :-1]\n",
        "    y_train = train_data.iloc[:, -1]\n",
        "    X_test = test_data.iloc[:, :-1]\n",
        "    y_test = test_data.iloc[:, -1]\n",
        "\n",
        "    # Train linear regression model\n",
        "    lr_model.fit(X_train, y_train)\n",
        "\n",
        "    # Save train and test data to CSV files\n",
        "    train_data.to_csv(f'linear_train_fold_{fold + 1}.csv', index=False)\n",
        "    test_data.to_csv(f'linear_test_fold_{fold + 1}.csv', index=False)\n",
        "\n",
        "print(\"5 train-test datasets (8:2 ratio) generated and saved as CSV files!\")\n"
      ],
      "metadata": {
        "colab": {
          "base_uri": "https://localhost:8080/"
        },
        "id": "tDtUPSw8y8iU",
        "outputId": "9353c08b-5e28-4e37-f680-05069e144b1f"
      },
      "execution_count": 19,
      "outputs": [
        {
          "output_type": "stream",
          "name": "stderr",
          "text": [
            "<ipython-input-19-7c4bb1030a07>:8: SettingWithCopyWarning: \n",
            "A value is trying to be set on a copy of a slice from a DataFrame.\n",
            "Try using .loc[row_indexer,col_indexer] = value instead\n",
            "\n",
            "See the caveats in the documentation: https://pandas.pydata.org/pandas-docs/stable/user_guide/indexing.html#returning-a-view-versus-a-copy\n",
            "  X['clouds_all'] = pd.to_numeric(X['clouds_all'], errors='coerce')\n",
            "<ipython-input-19-7c4bb1030a07>:9: SettingWithCopyWarning: \n",
            "A value is trying to be set on a copy of a slice from a DataFrame\n",
            "\n",
            "See the caveats in the documentation: https://pandas.pydata.org/pandas-docs/stable/user_guide/indexing.html#returning-a-view-versus-a-copy\n",
            "  X.fillna(0, inplace=True)\n"
          ]
        },
        {
          "output_type": "stream",
          "name": "stdout",
          "text": [
            "5 train-test datasets (8:2 ratio) generated and saved as CSV files!\n"
          ]
        }
      ]
    },
    {
      "cell_type": "markdown",
      "source": [
        "**GRADIENT BOOSTING REGRESSION**"
      ],
      "metadata": {
        "id": "sRe_4XVg43rT"
      }
    },
    {
      "cell_type": "code",
      "source": [
        "from sklearn.ensemble import GradientBoostingRegressor\n",
        "from sklearn.model_selection import train_test_split\n",
        "from sklearn.preprocessing import PolynomialFeatures, StandardScaler\n",
        "from sklearn.metrics import mean_squared_error\n",
        "from sklearn.metrics import r2_score\n",
        "\n",
        "daytime['hour'] = daytime['date_time'].dt.hour\n",
        "daytime['day'] = daytime['date_time'].dt.day\n",
        "daytime['month'] = daytime['date_time'].dt.month\n",
        "daytime['weekday'] = daytime['date_time'].dt.weekday\n",
        "\n",
        "X = daytime[['hour', 'day', 'month', 'weekday', 'temp', 'rain_1h', 'snow_1h', 'clouds_all']]\n",
        "y = daytime['traffic_volume']\n",
        "\n",
        "X['clouds_all'] = pd.to_numeric(X['clouds_all'], errors='coerce')\n",
        "X.fillna(0, inplace=True)\n",
        "\n",
        "# Polynomial transformation and scaling\n",
        "poly = PolynomialFeatures(degree=2)\n",
        "X_poly = poly.fit_transform(X)\n",
        "scaler = StandardScaler()\n",
        "X_poly_scaled = scaler.fit_transform(X_poly)\n",
        "\n",
        "X_train, X_test, y_train, y_test = train_test_split(X_poly_scaled, y, test_size=0.2, random_state=42)\n",
        "\n",
        "# Initialize Gradient Boosting Regressor\n",
        "gbr_model = GradientBoostingRegressor(n_estimators=100, learning_rate=0.1, max_depth=3, random_state=42)\n",
        "\n",
        "# Train the model\n",
        "gbr_model.fit(X_train, y_train)\n",
        "\n",
        "y_pred = gbr_model.predict(X_test)\n",
        "\n",
        "mse = mean_squared_error(y_test, y_pred)\n",
        "print(f\"Mean Squared Error: {mse}\")\n",
        "\n",
        "r2 = r2_score(y_test, y_pred)\n",
        "print(f\"R² Score (Accuracy): {r2 * 100:.2f}%\")\n",
        "\n",
        "new_data = np.array([[15, 10, 12, 4, 260, 0.2, 0, 80]])\n",
        "# hour=15, day=10, month=12, weekday=4 (Friday), temp=22°C, rain=0.2mm, snow=0mm, clouds=80%\n",
        "new_data_poly = poly.transform(new_data)\n",
        "new_data_scaled = scaler.transform(new_data_poly)\n",
        "\n",
        "new_data_poly = poly.transform(new_data)\n",
        "new_data_scaled = scaler.transform(new_data_poly)\n",
        "\n",
        "predicted_traffic = gbr_model.predict(new_data_scaled)\n",
        "print(f\"Predicted Traffic Volume: {predicted_traffic[0]}\")\n"
      ],
      "metadata": {
        "colab": {
          "base_uri": "https://localhost:8080/"
        },
        "id": "EwY3y4M85DKr",
        "outputId": "8af3f73d-5aa0-40cd-cdd0-e7381728b1ce"
      },
      "execution_count": 20,
      "outputs": [
        {
          "output_type": "stream",
          "name": "stderr",
          "text": [
            "<ipython-input-20-28ed7c47d7a8>:15: SettingWithCopyWarning: \n",
            "A value is trying to be set on a copy of a slice from a DataFrame.\n",
            "Try using .loc[row_indexer,col_indexer] = value instead\n",
            "\n",
            "See the caveats in the documentation: https://pandas.pydata.org/pandas-docs/stable/user_guide/indexing.html#returning-a-view-versus-a-copy\n",
            "  X['clouds_all'] = pd.to_numeric(X['clouds_all'], errors='coerce')\n",
            "<ipython-input-20-28ed7c47d7a8>:16: SettingWithCopyWarning: \n",
            "A value is trying to be set on a copy of a slice from a DataFrame\n",
            "\n",
            "See the caveats in the documentation: https://pandas.pydata.org/pandas-docs/stable/user_guide/indexing.html#returning-a-view-versus-a-copy\n",
            "  X.fillna(0, inplace=True)\n"
          ]
        },
        {
          "output_type": "stream",
          "name": "stdout",
          "text": [
            "Mean Squared Error: 304550.0510160458\n",
            "R² Score (Accuracy): 81.67%\n",
            "Predicted Traffic Volume: 5440.396995736173\n"
          ]
        },
        {
          "output_type": "stream",
          "name": "stderr",
          "text": [
            "/usr/local/lib/python3.10/dist-packages/sklearn/utils/validation.py:2739: UserWarning: X does not have valid feature names, but PolynomialFeatures was fitted with feature names\n",
            "  warnings.warn(\n",
            "/usr/local/lib/python3.10/dist-packages/sklearn/utils/validation.py:2739: UserWarning: X does not have valid feature names, but PolynomialFeatures was fitted with feature names\n",
            "  warnings.warn(\n"
          ]
        }
      ]
    },
    {
      "cell_type": "markdown",
      "source": [
        "**5-CROSS VALIDATION IN 8:2 RATIO--GRADIENT BOOSTING**"
      ],
      "metadata": {
        "id": "qfOhJc997F_T"
      }
    },
    {
      "cell_type": "code",
      "source": [
        "import pandas as pd\n",
        "from sklearn.ensemble import GradientBoostingRegressor\n",
        "from sklearn.model_selection import KFold\n",
        "\n",
        "X = daytime[['hour', 'day', 'month', 'weekday', 'temp', 'rain_1h', 'snow_1h', 'clouds_all']]\n",
        "y = daytime['traffic_volume']\n",
        "\n",
        "X['clouds_all'] = pd.to_numeric(X['clouds_all'], errors='coerce')\n",
        "X.fillna(0, inplace=True)\n",
        "\n",
        "data = pd.concat([X, y], axis=1)\n",
        "\n",
        "# Initialize KFold with 5 splits\n",
        "kf = KFold(n_splits=5, shuffle=True, random_state=42)\n",
        "\n",
        "for fold, (train_index, test_index) in enumerate(kf.split(data)):\n",
        "    train_data = data.iloc[train_index]\n",
        "    test_data = data.iloc[test_index]\n",
        "\n",
        "    X_train = train_data.iloc[:, :-1]\n",
        "    y_train = train_data.iloc[:, -1]\n",
        "    X_test = test_data.iloc[:, :-1]\n",
        "    y_test = test_data.iloc[:, -1]\n",
        "\n",
        "    # Train Gradient Boosting Regressor\n",
        "    gbr_model = GradientBoostingRegressor(n_estimators=100, learning_rate=0.1, max_depth=3, random_state=42)\n",
        "    gbr_model.fit(X_train, y_train)\n",
        "\n",
        "    # Save train and test data to CSV files\n",
        "    train_data.to_csv(f'gbr_train_fold_{fold + 1}.csv', index=False)\n",
        "    test_data.to_csv(f'gbr_test_fold_{fold + 1}.csv', index=False)\n",
        "\n",
        "print(\"5 train-test datasets (8:2 ratio) generated and saved as CSV files!\")\n"
      ],
      "metadata": {
        "colab": {
          "base_uri": "https://localhost:8080/"
        },
        "id": "Wx66hqgd7cAL",
        "outputId": "1f0b05eb-493f-4e5a-ca8f-b0c8d770b10c"
      },
      "execution_count": 21,
      "outputs": [
        {
          "output_type": "stream",
          "name": "stderr",
          "text": [
            "<ipython-input-21-d6d80e3136ab>:8: SettingWithCopyWarning: \n",
            "A value is trying to be set on a copy of a slice from a DataFrame.\n",
            "Try using .loc[row_indexer,col_indexer] = value instead\n",
            "\n",
            "See the caveats in the documentation: https://pandas.pydata.org/pandas-docs/stable/user_guide/indexing.html#returning-a-view-versus-a-copy\n",
            "  X['clouds_all'] = pd.to_numeric(X['clouds_all'], errors='coerce')\n",
            "<ipython-input-21-d6d80e3136ab>:9: SettingWithCopyWarning: \n",
            "A value is trying to be set on a copy of a slice from a DataFrame\n",
            "\n",
            "See the caveats in the documentation: https://pandas.pydata.org/pandas-docs/stable/user_guide/indexing.html#returning-a-view-versus-a-copy\n",
            "  X.fillna(0, inplace=True)\n"
          ]
        },
        {
          "output_type": "stream",
          "name": "stdout",
          "text": [
            "5 train-test datasets (8:2 ratio) generated and saved as CSV files!\n"
          ]
        }
      ]
    },
    {
      "cell_type": "markdown",
      "source": [
        "**RANDOM FOREST--BEST FOLD WITH ACCURACY**"
      ],
      "metadata": {
        "id": "UjYjFQp06TkX"
      }
    },
    {
      "cell_type": "code",
      "source": [
        "import pandas as pd\n",
        "from sklearn.ensemble import RandomForestRegressor\n",
        "from sklearn.model_selection import KFold\n",
        "from sklearn.metrics import r2_score\n",
        "\n",
        "# Prepare features and target\n",
        "X = daytime[['hour', 'day', 'month', 'weekday', 'temp', 'rain_1h', 'snow_1h', 'clouds_all']]\n",
        "y = daytime['traffic_volume']\n",
        "\n",
        "# Convert clouds_all to numeric and handle missing values\n",
        "X['clouds_all'] = pd.to_numeric(X['clouds_all'], errors='coerce')\n",
        "X.fillna(0, inplace=True)\n",
        "\n",
        "# Combine features and target into a single DataFrame\n",
        "data = pd.concat([X, y], axis=1)\n",
        "\n",
        "# Initialize KFold\n",
        "kf = KFold(n_splits=5, shuffle=True, random_state=42)\n",
        "\n",
        "# Initialize Random Forest Regressor\n",
        "rf_model = RandomForestRegressor(n_estimators=100, random_state=42)\n",
        "\n",
        "# Track R² scores for each fold\n",
        "fold_results = []\n",
        "\n",
        "for fold, (train_index, test_index) in enumerate(kf.split(data)):\n",
        "    train_data = data.iloc[train_index]\n",
        "    test_data = data.iloc[test_index]\n",
        "\n",
        "    # Split into features and target\n",
        "    X_train = train_data.iloc[:, :-1]\n",
        "    y_train = train_data.iloc[:, -1]\n",
        "    X_test = test_data.iloc[:, :-1]\n",
        "    y_test = test_data.iloc[:, -1]\n",
        "\n",
        "    # Train the model\n",
        "    rf_model.fit(X_train, y_train)\n",
        "\n",
        "    # Predict and calculate R² score\n",
        "    y_pred = rf_model.predict(X_test)\n",
        "    r2 = r2_score(y_test, y_pred)\n",
        "\n",
        "    fold_results.append({\"Fold\": fold + 1, \"R² Score\": r2})\n",
        "\n",
        "# Convert results to DataFrame\n",
        "results_df = pd.DataFrame(fold_results)\n",
        "\n",
        "# Find the best fold\n",
        "best_fold = results_df.loc[results_df[\"R² Score\"].idxmax()]\n",
        "\n",
        "# Save best fold details to CSV\n",
        "best_fold.to_frame().T.to_csv(\"best_fold_accuracy_rand.csv\", index=False)\n",
        "\n",
        "print(\"Best fold accuracy saved as 'best_fold_accuracy.csv'\")\n"
      ],
      "metadata": {
        "colab": {
          "base_uri": "https://localhost:8080/"
        },
        "id": "PP6hFV9wJiCW",
        "outputId": "5b30d410-f3ea-4d6f-d753-6a913cb2b590"
      },
      "execution_count": 22,
      "outputs": [
        {
          "output_type": "stream",
          "name": "stderr",
          "text": [
            "<ipython-input-22-e97615691b5f>:11: SettingWithCopyWarning: \n",
            "A value is trying to be set on a copy of a slice from a DataFrame.\n",
            "Try using .loc[row_indexer,col_indexer] = value instead\n",
            "\n",
            "See the caveats in the documentation: https://pandas.pydata.org/pandas-docs/stable/user_guide/indexing.html#returning-a-view-versus-a-copy\n",
            "  X['clouds_all'] = pd.to_numeric(X['clouds_all'], errors='coerce')\n",
            "<ipython-input-22-e97615691b5f>:12: SettingWithCopyWarning: \n",
            "A value is trying to be set on a copy of a slice from a DataFrame\n",
            "\n",
            "See the caveats in the documentation: https://pandas.pydata.org/pandas-docs/stable/user_guide/indexing.html#returning-a-view-versus-a-copy\n",
            "  X.fillna(0, inplace=True)\n"
          ]
        },
        {
          "output_type": "stream",
          "name": "stdout",
          "text": [
            "Best fold accuracy saved as 'best_fold_accuracy.csv'\n"
          ]
        }
      ]
    },
    {
      "cell_type": "markdown",
      "source": [
        "**GRADIENT BOOSTING--BEST FOLD WITH ACCURACY**"
      ],
      "metadata": {
        "id": "3VmzSQEW7Pzc"
      }
    },
    {
      "cell_type": "code",
      "source": [
        "import pandas as pd\n",
        "from sklearn.ensemble import GradientBoostingRegressor\n",
        "from sklearn.model_selection import KFold\n",
        "from sklearn.metrics import r2_score\n",
        "\n",
        "X = daytime[['hour', 'day', 'month', 'weekday', 'temp', 'rain_1h', 'snow_1h', 'clouds_all']]\n",
        "y = daytime['traffic_volume']\n",
        "\n",
        "X['clouds_all'] = pd.to_numeric(X['clouds_all'], errors='coerce')\n",
        "X.fillna(0, inplace=True)\n",
        "\n",
        "data = pd.concat([X, y], axis=1)\n",
        "\n",
        "# Initialize KFold\n",
        "kf = KFold(n_splits=5, shuffle=True, random_state=42)\n",
        "\n",
        "gbr_model = GradientBoostingRegressor(n_estimators=100, learning_rate=0.1, max_depth=3, random_state=42)\n",
        "\n",
        "fold_results = []\n",
        "\n",
        "for fold, (train_index, test_index) in enumerate(kf.split(data)):\n",
        "    train_data = data.iloc[train_index]\n",
        "    test_data = data.iloc[test_index]\n",
        "\n",
        "    X_train = train_data.iloc[:, :-1]\n",
        "    y_train = train_data.iloc[:, -1]\n",
        "    X_test = test_data.iloc[:, :-1]\n",
        "    y_test = test_data.iloc[:, -1]\n",
        "\n",
        "    gbr_model.fit(X_train, y_train)\n",
        "\n",
        "    y_pred = gbr_model.predict(X_test)\n",
        "    r2 = r2_score(y_test, y_pred)\n",
        "\n",
        "    fold_results.append({\"Fold\": fold + 1, \"R² Score\": r2})\n",
        "\n",
        "results_df = pd.DataFrame(fold_results)\n",
        "\n",
        "# best fold\n",
        "best_fold = results_df.loc[results_df[\"R² Score\"].idxmax()]\n",
        "\n",
        "# Save best fold details to CSV\n",
        "best_fold.to_frame().T.to_csv(\"best_fold_accuracy_gbr.csv\", index=False)\n",
        "\n",
        "print(\"Best fold accuracy for Gradient Boosting saved as 'best_fold_accuracy_gbr.csv'\")\n"
      ],
      "metadata": {
        "colab": {
          "base_uri": "https://localhost:8080/"
        },
        "id": "gIc1dpth68Fx",
        "outputId": "0382ff06-25a0-417e-a31c-b141f08957c8"
      },
      "execution_count": 23,
      "outputs": [
        {
          "output_type": "stream",
          "name": "stderr",
          "text": [
            "<ipython-input-23-624af8320294>:9: SettingWithCopyWarning: \n",
            "A value is trying to be set on a copy of a slice from a DataFrame.\n",
            "Try using .loc[row_indexer,col_indexer] = value instead\n",
            "\n",
            "See the caveats in the documentation: https://pandas.pydata.org/pandas-docs/stable/user_guide/indexing.html#returning-a-view-versus-a-copy\n",
            "  X['clouds_all'] = pd.to_numeric(X['clouds_all'], errors='coerce')\n",
            "<ipython-input-23-624af8320294>:10: SettingWithCopyWarning: \n",
            "A value is trying to be set on a copy of a slice from a DataFrame\n",
            "\n",
            "See the caveats in the documentation: https://pandas.pydata.org/pandas-docs/stable/user_guide/indexing.html#returning-a-view-versus-a-copy\n",
            "  X.fillna(0, inplace=True)\n"
          ]
        },
        {
          "output_type": "stream",
          "name": "stdout",
          "text": [
            "Best fold accuracy for Gradient Boosting saved as 'best_fold_accuracy_gbr.csv'\n"
          ]
        }
      ]
    },
    {
      "cell_type": "markdown",
      "source": [
        "**BEST FOLDS WITH BEST ACCURACIES OF ALL MODELS**"
      ],
      "metadata": {
        "id": "zyfeytpEmI2j"
      }
    },
    {
      "cell_type": "code",
      "source": [
        "import pandas as pd\n",
        "import pickle\n",
        "from sklearn.linear_model import LinearRegression\n",
        "from sklearn.ensemble import RandomForestRegressor, GradientBoostingRegressor\n",
        "from sklearn.model_selection import KFold\n",
        "from sklearn.metrics import r2_score\n",
        "\n",
        "X = daytime[['hour', 'day', 'month', 'weekday', 'temp', 'rain_1h', 'snow_1h', 'clouds_all']]\n",
        "y = daytime['traffic_volume']\n",
        "\n",
        "X['clouds_all'] = pd.to_numeric(X['clouds_all'], errors='coerce')\n",
        "X.fillna(0, inplace=True)\n",
        "\n",
        "# Initialize KFold\n",
        "kf = KFold(n_splits=5, shuffle=True, random_state=42)\n",
        "\n",
        "# Initialize models\n",
        "models = {\n",
        "    \"Linear Regression\": LinearRegression(),\n",
        "    \"Random Forest\": RandomForestRegressor(n_estimators=100, random_state=42),\n",
        "    \"Gradient Boosting\": GradientBoostingRegressor(n_estimators=100, learning_rate=0.1, max_depth=3, random_state=42)\n",
        "}\n",
        "\n",
        "# Perform KFold for each model\n",
        "for model_name, model in models.items():\n",
        "    best_r2 = float('-inf')\n",
        "    best_fold_data = None\n",
        "\n",
        "    for fold, (train_index, test_index) in enumerate(kf.split(X)):\n",
        "        X_train, X_test = X.iloc[train_index], X.iloc[test_index]\n",
        "        y_train, y_test = y.iloc[train_index], y.iloc[test_index]\n",
        "\n",
        "        # Train the model\n",
        "        model.fit(X_train, y_train)\n",
        "\n",
        "        # Predict and calculate R² score\n",
        "        y_pred = model.predict(X_test)\n",
        "        r2 = r2_score(y_test, y_pred)\n",
        "\n",
        "        # Save the best fold data\n",
        "        if r2 > best_r2:\n",
        "            best_r2 = r2\n",
        "            best_fold_data = {\n",
        "                \"Train Data\": pd.concat([X_train, y_train], axis=1),\n",
        "                \"Test Data\": pd.concat([X_test, y_test], axis=1),\n",
        "                \"R² Score\": r2\n",
        "            }\n",
        "\n",
        "    # Save the best fold data using pickle\n",
        "    with open(f\"{model_name}_best_fold.pkl\", \"wb\") as file:\n",
        "        pickle.dump(best_fold_data, file)\n",
        "\n",
        "    # Save train and test data to CSV\n",
        "    best_fold_data[\"Train Data\"].to_csv(f\"{model_name}_best_train_data.csv\", index=False)\n",
        "    best_fold_data[\"Test Data\"].to_csv(f\"{model_name}_best_test_data.csv\", index=False)\n",
        "\n",
        "    print(f\"Best fold for {model_name} saved with R² Score: {best_r2:.4f}\")\n"
      ],
      "metadata": {
        "colab": {
          "base_uri": "https://localhost:8080/"
        },
        "id": "ED_pub4bhlvY",
        "outputId": "2bf2b755-b8e0-4059-aaba-83d42ae6021a"
      },
      "execution_count": 25,
      "outputs": [
        {
          "output_type": "stream",
          "name": "stderr",
          "text": [
            "<ipython-input-25-fd2f488b0ae3>:13: SettingWithCopyWarning: \n",
            "A value is trying to be set on a copy of a slice from a DataFrame.\n",
            "Try using .loc[row_indexer,col_indexer] = value instead\n",
            "\n",
            "See the caveats in the documentation: https://pandas.pydata.org/pandas-docs/stable/user_guide/indexing.html#returning-a-view-versus-a-copy\n",
            "  X['clouds_all'] = pd.to_numeric(X['clouds_all'], errors='coerce')\n",
            "<ipython-input-25-fd2f488b0ae3>:14: SettingWithCopyWarning: \n",
            "A value is trying to be set on a copy of a slice from a DataFrame\n",
            "\n",
            "See the caveats in the documentation: https://pandas.pydata.org/pandas-docs/stable/user_guide/indexing.html#returning-a-view-versus-a-copy\n",
            "  X.fillna(0, inplace=True)\n"
          ]
        },
        {
          "output_type": "stream",
          "name": "stdout",
          "text": [
            "Best fold for Linear Regression saved with R² Score: 0.2591\n",
            "Best fold for Random Forest saved with R² Score: 0.9011\n",
            "Best fold for Gradient Boosting saved with R² Score: 0.8393\n"
          ]
        }
      ]
    },
    {
      "cell_type": "markdown",
      "source": [
        "**BEST ACCURACIES OF EACH MODEL**"
      ],
      "metadata": {
        "id": "h9uAqqpNl72Q"
      }
    },
    {
      "cell_type": "code",
      "source": [
        "import pandas as pd\n",
        "from sklearn.linear_model import LinearRegression\n",
        "from sklearn.ensemble import RandomForestRegressor\n",
        "from sklearn.ensemble import GradientBoostingRegressor\n",
        "from sklearn.model_selection import KFold\n",
        "from sklearn.metrics import r2_score\n",
        "\n",
        "X = daytime[['hour', 'day', 'month', 'weekday', 'temp', 'rain_1h', 'snow_1h', 'clouds_all']]\n",
        "y = daytime['traffic_volume']\n",
        "\n",
        "X['clouds_all'] = pd.to_numeric(X['clouds_all'], errors='coerce')\n",
        "X.fillna(0, inplace=True)\n",
        "\n",
        "# Initialize KFold\n",
        "kf = KFold(n_splits=5, shuffle=True, random_state=42)\n",
        "\n",
        "# Initialize models\n",
        "models = {\n",
        "    \"Linear Regression\": LinearRegression(),\n",
        "    \"Random Forest\": RandomForestRegressor(n_estimators=100, random_state=42),\n",
        "    \"Gradient Boosting\": GradientBoostingRegressor(n_estimators=100, learning_rate=0.1, max_depth=3, random_state=42)\n",
        "}\n",
        "\n",
        "results = []\n",
        "\n",
        "best_model = None\n",
        "best_r2 = float('-inf')\n",
        "\n",
        "for model_name, model in models.items():\n",
        "    fold_scores = []\n",
        "    for fold, (train_index, test_index) in enumerate(kf.split(X)):\n",
        "        X_train, X_test = X.iloc[train_index], X.iloc[test_index]\n",
        "        y_train, y_test = y.iloc[train_index], y.iloc[test_index]\n",
        "\n",
        "        model.fit(X_train, y_train)\n",
        "\n",
        "        # Predict and calculate R² score\n",
        "        y_pred = model.predict(X_test)\n",
        "        r2 = r2_score(y_test, y_pred)\n",
        "        fold_scores.append({\"Model\": model_name, \"Fold\": fold + 1, \"R² Score\": r2})\n",
        "\n",
        "        # Track the best model and R² score\n",
        "        if r2 > best_r2:\n",
        "            best_r2 = r2\n",
        "            best_model = model_name\n",
        "\n",
        "    results.extend(fold_scores)\n",
        "\n",
        "# Convert results to DataFrame\n",
        "results_df = pd.DataFrame(results)\n",
        "\n",
        "# Save to CSV\n",
        "results_df.to_csv(\"fold_accuracies.csv\", index=False)\n",
        "\n",
        "# Print best model and accuracy\n",
        "print(\"Fold accuracies for all models saved to 'fold_accuracies.csv'\")\n",
        "print(f\"The best model is {best_model} with an R² score of {best_r2:.4f}\")\n"
      ],
      "metadata": {
        "colab": {
          "base_uri": "https://localhost:8080/"
        },
        "id": "qvJuEh5tm_Cv",
        "outputId": "991b7e0c-884a-48b4-98c1-4bf8fc6b4659"
      },
      "execution_count": 26,
      "outputs": [
        {
          "output_type": "stream",
          "name": "stderr",
          "text": [
            "<ipython-input-26-a76a2b4a8c21>:13: SettingWithCopyWarning: \n",
            "A value is trying to be set on a copy of a slice from a DataFrame.\n",
            "Try using .loc[row_indexer,col_indexer] = value instead\n",
            "\n",
            "See the caveats in the documentation: https://pandas.pydata.org/pandas-docs/stable/user_guide/indexing.html#returning-a-view-versus-a-copy\n",
            "  X['clouds_all'] = pd.to_numeric(X['clouds_all'], errors='coerce')\n",
            "<ipython-input-26-a76a2b4a8c21>:14: SettingWithCopyWarning: \n",
            "A value is trying to be set on a copy of a slice from a DataFrame\n",
            "\n",
            "See the caveats in the documentation: https://pandas.pydata.org/pandas-docs/stable/user_guide/indexing.html#returning-a-view-versus-a-copy\n",
            "  X.fillna(0, inplace=True)\n"
          ]
        },
        {
          "output_type": "stream",
          "name": "stdout",
          "text": [
            "Fold accuracies for all models saved to 'fold_accuracies.csv'\n",
            "The best model is Random Forest with an R² score of 0.9011\n"
          ]
        }
      ]
    }
  ],
  "metadata": {
    "colab": {
      "provenance": [],
      "authorship_tag": "ABX9TyOgBDS3RnBY/Vsk7yFpV4em",
      "include_colab_link": true
    },
    "kernelspec": {
      "display_name": "Python 3",
      "name": "python3"
    },
    "language_info": {
      "name": "python"
    }
  },
  "nbformat": 4,
  "nbformat_minor": 0
}